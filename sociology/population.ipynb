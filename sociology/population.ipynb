{
 "cells": [
  {
   "cell_type": "markdown",
   "metadata": {},
   "source": [
    "# Population Sizes\n",
    "\n",
    "Thomas Malthus was an economist during the turn of the 18th century.  He argued that increases in population would eventually diminish the ability of the world to feed itself. Famine would soon sweep over Europe when population sizes reaches its limits.\n",
    "\n",
    "What he did not anticipate was the farming revolution that would allow food production to support such large population sizes."
   ]
  },
  {
   "cell_type": "markdown",
   "metadata": {},
   "source": [
    "### Logistic Equation\n",
    "\n",
    "Here's how we model population growth found in most high school textbooks.\n",
    "\n",
    "\n",
    "#### Differential Equation\n",
    "$\\frac{dP}{dt} = r P$\n"
   ]
  },
  {
   "cell_type": "markdown",
   "metadata": {},
   "source": [
    "# Conclusion\n",
    "\n",
    "Due to economic forces and assuming rational agents, populations would naturally level off as individual agents collectively make the decision to have fewer children. However, assuming ratioanl agents and the promoted use of contraception."
   ]
  },
  {
   "cell_type": "code",
   "execution_count": null,
   "metadata": {},
   "outputs": [],
   "source": []
  }
 ],
 "metadata": {
  "language_info": {
   "name": "python"
  }
 },
 "nbformat": 4,
 "nbformat_minor": 2
}
