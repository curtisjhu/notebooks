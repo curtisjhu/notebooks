{
 "cells": [
  {
   "cell_type": "markdown",
   "metadata": {},
   "source": [
    "# Experiments\n",
    "I teach CS188 so I would like to have some experiments to study the details of certain topics of the class"
   ]
  },
  {
   "cell_type": "code",
   "execution_count": null,
   "metadata": {},
   "outputs": [],
   "source": [
    "import numpy as np"
   ]
  },
  {
   "cell_type": "code",
   "execution_count": null,
   "metadata": {},
   "outputs": [],
   "source": [
    "\n",
    "class Node:\n",
    "    def __init__(self, to=[], h=0, is_goal=False, label=\"A\"):\n",
    "        self.children = to\n",
    "        self.h = h\n",
    "        self.is_goal = is_goal\n",
    "\n",
    "C = Node(to=[Node(is_goal=True)], h=1, label=\"C\")\n",
    "start = Node(to=\n",
    "                [ Node( to=\n",
    "                            [C],\n",
    "                        h=4, label=\"A\"),\n",
    "                  Node( to=[C], h=1, label=\"B\")],\n",
    "             h=2,\n",
    "             label=\"S\"\n",
    "             )\n",
    "\n",
    "# display here"
   ]
  },
  {
   "cell_type": "code",
   "execution_count": null,
   "metadata": {},
   "outputs": [],
   "source": [
    "# graph with matplotlib\n",
    "\n",
    "def dfs(node):\n",
    "    if node.is_goal:\n",
    "        return True\n",
    "\n",
    "    for child in node.children:\n",
    "        if dfs(child):\n",
    "            return \"Goal Found\"\n",
    "    return \"goal not found\"\n",
    "\n",
    "def dfs_backtrack(node):\n",
    "    pass\n",
    "    \n",
    "def dfs_no_loops(node, visited=[]):\n",
    "    if node.is_goal:\n",
    "        return True\n",
    "    if node in visited:\n",
    "        return False\n",
    "\n",
    "    for child in node.children:\n",
    "        if dfs(child, visited):\n",
    "            return \"Goal Found\"\n",
    "        visited.append(child)\n",
    "    return \"goal not found\""
   ]
  },
  {
   "cell_type": "code",
   "execution_count": null,
   "metadata": {},
   "outputs": [],
   "source": [
    "def bfs(node):\n",
    "    pass"
   ]
  },
  {
   "cell_type": "markdown",
   "metadata": {},
   "source": [
    "Uniform Cost Search - minimize cost\n",
    "\n",
    "$f(n) = g(n)$"
   ]
  },
  {
   "cell_type": "code",
   "execution_count": null,
   "metadata": {},
   "outputs": [],
   "source": [
    "def ucs(graph):\n",
    "    pass"
   ]
  },
  {
   "cell_type": "markdown",
   "metadata": {},
   "source": [
    "Greedy - minimize heuristic\n",
    "\n",
    "$f(n) = h(n)$"
   ]
  },
  {
   "cell_type": "code",
   "execution_count": null,
   "metadata": {},
   "outputs": [],
   "source": [
    "def greedy(node):\n",
    "    pass"
   ]
  },
  {
   "cell_type": "markdown",
   "metadata": {},
   "source": [
    "A* - minimize cost and heuristic\n",
    "\n",
    "$f(n) = g(n) + h(n)$"
   ]
  },
  {
   "cell_type": "code",
   "execution_count": null,
   "metadata": {},
   "outputs": [],
   "source": [
    "def astar(graph):\n",
    "    pass"
   ]
  },
  {
   "cell_type": "markdown",
   "metadata": {},
   "source": [
    "### Admissible and Inadmissible\n",
    "\n",
    "![astar](astar.png)"
   ]
  },
  {
   "cell_type": "markdown",
   "metadata": {},
   "source": [
    "### Proof of optimality\n",
    "\n",
    "Intuitively, you have two goals: one optimal and one suboptimal. You are trying to prove that the optimal will be reached before suboptimal always if using admisslbe heuristic.\n",
    "\n",
    "$g(A) < g(B), \\quad h(A) = h(B) = 0 \\rightarrow f(A) < f(B)$\n",
    "\n",
    "$h(n) \\leq h*(n) \\rightarrow g(n) + h(n) \\leq g(n)+h*(n) \\rightarrow f(n) \\leq f(A)$\n",
    "\n",
    "$f(n) \\leq f(A) < f(B)$\n",
    "\n",
    "So A is optimal"
   ]
  },
  {
   "cell_type": "markdown",
   "metadata": {},
   "source": [
    "### Consistency vs Admissible"
   ]
  },
  {
   "cell_type": "markdown",
   "metadata": {},
   "source": []
  },
  {
   "cell_type": "code",
   "execution_count": 1,
   "metadata": {},
   "outputs": [],
   "source": [
    "def traveling_salesman(node):\n",
    "    pass"
   ]
  },
  {
   "cell_type": "code",
   "execution_count": null,
   "metadata": {},
   "outputs": [],
   "source": []
  }
 ],
 "metadata": {
  "kernelspec": {
   "display_name": "scrap",
   "language": "python",
   "name": "python3"
  },
  "language_info": {
   "codemirror_mode": {
    "name": "ipython",
    "version": 3
   },
   "file_extension": ".py",
   "mimetype": "text/x-python",
   "name": "python",
   "nbconvert_exporter": "python",
   "pygments_lexer": "ipython3",
   "version": "3.9.19"
  }
 },
 "nbformat": 4,
 "nbformat_minor": 2
}
