{
 "cells": [
  {
   "cell_type": "markdown",
   "metadata": {},
   "source": [
    "# Cart Pole\n",
    "\n",
    "One of the earlier and simplest forms of reinforcement learning in the seminar paper (https://ieeexplore.ieee.org/document/6313077)"
   ]
  },
  {
   "cell_type": "code",
   "execution_count": 17,
   "metadata": {},
   "outputs": [
    {
     "name": "stderr",
     "output_type": "stream",
     "text": [
      "/Users/curtisjhu/miniconda3/envs/gymnasium/lib/python3.12/site-packages/gym/wrappers/record_video.py:75: UserWarning: \u001b[33mWARN: Overwriting existing videos at /Users/curtisjhu/notebooks/reinforcement-learning/videos folder (try specifying a different `video_folder` for the `RecordVideo` wrapper if this is not desired)\u001b[0m\n",
      "  logger.warn(\n",
      "/Users/curtisjhu/miniconda3/envs/gymnasium/lib/python3.12/site-packages/gymnasium/core.py:311: UserWarning: \u001b[33mWARN: env.is_vector_env to get variables from other wrappers is deprecated and will be removed in v1.0, to get this variable you can do `env.unwrapped.is_vector_env` for environment variables or `env.get_wrapper_attr('is_vector_env')` that will search the reminding wrappers.\u001b[0m\n",
      "  logger.warn(\n"
     ]
    }
   ],
   "source": [
    "import gymnasium as gym\n",
    "from gym.wrappers import RecordVideo\n",
    "\n",
    "env = gym.make('CartPole-v1', render_mode=\"rgb_array\") # must be rgb_array to allow videos\n",
    "env = RecordVideo(env, './videos', name_prefix=\"test-video\", episode_trigger = lambda x: True)"
   ]
  },
  {
   "cell_type": "code",
   "execution_count": 18,
   "metadata": {},
   "outputs": [
    {
     "data": {
      "text/plain": [
       "Discrete(2)"
      ]
     },
     "execution_count": 18,
     "metadata": {},
     "output_type": "execute_result"
    }
   ],
   "source": [
    "env.action_space"
   ]
  },
  {
   "cell_type": "code",
   "execution_count": 19,
   "metadata": {},
   "outputs": [
    {
     "data": {
      "text/plain": [
       "(array([0.04625558, 0.00457346, 0.04433396, 0.04958088], dtype=float32), {})"
      ]
     },
     "execution_count": 19,
     "metadata": {},
     "output_type": "execute_result"
    }
   ],
   "source": [
    "env.reset()"
   ]
  },
  {
   "cell_type": "markdown",
   "metadata": {},
   "source": [
    "[cart position, cart velocity, pole angle, pole angular veloicty]"
   ]
  },
  {
   "cell_type": "code",
   "execution_count": 20,
   "metadata": {},
   "outputs": [
    {
     "name": "stdout",
     "output_type": "stream",
     "text": [
      "Moviepy - Building video /Users/curtisjhu/notebooks/reinforcement-learning/videos/test-video-episode-0.mp4.\n",
      "Moviepy - Writing video /Users/curtisjhu/notebooks/reinforcement-learning/videos/test-video-episode-0.mp4\n",
      "\n"
     ]
    },
    {
     "name": "stderr",
     "output_type": "stream",
     "text": [
      "                                                          \r"
     ]
    },
    {
     "name": "stdout",
     "output_type": "stream",
     "text": [
      "Moviepy - Done !\n",
      "Moviepy - video ready /Users/curtisjhu/notebooks/reinforcement-learning/videos/test-video-episode-0.mp4\n",
      "Moviepy - Building video /Users/curtisjhu/notebooks/reinforcement-learning/videos/test-video-episode-0.mp4.\n",
      "Moviepy - Writing video /Users/curtisjhu/notebooks/reinforcement-learning/videos/test-video-episode-0.mp4\n",
      "\n"
     ]
    },
    {
     "name": "stderr",
     "output_type": "stream",
     "text": [
      "                                                   \r"
     ]
    },
    {
     "name": "stdout",
     "output_type": "stream",
     "text": [
      "Moviepy - Done !\n",
      "Moviepy - video ready /Users/curtisjhu/notebooks/reinforcement-learning/videos/test-video-episode-0.mp4\n",
      "Moviepy - Building video /Users/curtisjhu/notebooks/reinforcement-learning/videos/test-video-episode-1.mp4.\n",
      "Moviepy - Writing video /Users/curtisjhu/notebooks/reinforcement-learning/videos/test-video-episode-1.mp4\n",
      "\n"
     ]
    },
    {
     "name": "stderr",
     "output_type": "stream",
     "text": [
      "                                                   \r"
     ]
    },
    {
     "name": "stdout",
     "output_type": "stream",
     "text": [
      "Moviepy - Done !\n",
      "Moviepy - video ready /Users/curtisjhu/notebooks/reinforcement-learning/videos/test-video-episode-1.mp4\n",
      "Moviepy - Building video /Users/curtisjhu/notebooks/reinforcement-learning/videos/test-video-episode-2.mp4.\n",
      "Moviepy - Writing video /Users/curtisjhu/notebooks/reinforcement-learning/videos/test-video-episode-2.mp4\n",
      "\n"
     ]
    },
    {
     "name": "stderr",
     "output_type": "stream",
     "text": [
      "                                                   \r"
     ]
    },
    {
     "name": "stdout",
     "output_type": "stream",
     "text": [
      "Moviepy - Done !\n",
      "Moviepy - video ready /Users/curtisjhu/notebooks/reinforcement-learning/videos/test-video-episode-2.mp4\n",
      "Moviepy - Building video /Users/curtisjhu/notebooks/reinforcement-learning/videos/test-video-episode-3.mp4.\n",
      "Moviepy - Writing video /Users/curtisjhu/notebooks/reinforcement-learning/videos/test-video-episode-3.mp4\n",
      "\n"
     ]
    },
    {
     "name": "stderr",
     "output_type": "stream",
     "text": [
      "                                                   \r"
     ]
    },
    {
     "name": "stdout",
     "output_type": "stream",
     "text": [
      "Moviepy - Done !\n",
      "Moviepy - video ready /Users/curtisjhu/notebooks/reinforcement-learning/videos/test-video-episode-3.mp4\n",
      "Moviepy - Building video /Users/curtisjhu/notebooks/reinforcement-learning/videos/test-video-episode-4.mp4.\n",
      "Moviepy - Writing video /Users/curtisjhu/notebooks/reinforcement-learning/videos/test-video-episode-4.mp4\n",
      "\n"
     ]
    },
    {
     "name": "stderr",
     "output_type": "stream",
     "text": [
      "                                                   \r"
     ]
    },
    {
     "name": "stdout",
     "output_type": "stream",
     "text": [
      "Moviepy - Done !\n",
      "Moviepy - video ready /Users/curtisjhu/notebooks/reinforcement-learning/videos/test-video-episode-4.mp4\n",
      "Moviepy - Building video /Users/curtisjhu/notebooks/reinforcement-learning/videos/test-video-episode-5.mp4.\n",
      "Moviepy - Writing video /Users/curtisjhu/notebooks/reinforcement-learning/videos/test-video-episode-5.mp4\n",
      "\n"
     ]
    },
    {
     "name": "stderr",
     "output_type": "stream",
     "text": [
      "                                                   \r"
     ]
    },
    {
     "name": "stdout",
     "output_type": "stream",
     "text": [
      "Moviepy - Done !\n",
      "Moviepy - video ready /Users/curtisjhu/notebooks/reinforcement-learning/videos/test-video-episode-5.mp4\n",
      "Moviepy - Building video /Users/curtisjhu/notebooks/reinforcement-learning/videos/test-video-episode-6.mp4.\n",
      "Moviepy - Writing video /Users/curtisjhu/notebooks/reinforcement-learning/videos/test-video-episode-6.mp4\n",
      "\n"
     ]
    },
    {
     "name": "stderr",
     "output_type": "stream",
     "text": [
      "                                                   \r"
     ]
    },
    {
     "name": "stdout",
     "output_type": "stream",
     "text": [
      "Moviepy - Done !\n",
      "Moviepy - video ready /Users/curtisjhu/notebooks/reinforcement-learning/videos/test-video-episode-6.mp4\n",
      "Moviepy - Building video /Users/curtisjhu/notebooks/reinforcement-learning/videos/test-video-episode-7.mp4.\n",
      "Moviepy - Writing video /Users/curtisjhu/notebooks/reinforcement-learning/videos/test-video-episode-7.mp4\n",
      "\n"
     ]
    },
    {
     "name": "stderr",
     "output_type": "stream",
     "text": [
      "                                                   \r"
     ]
    },
    {
     "name": "stdout",
     "output_type": "stream",
     "text": [
      "Moviepy - Done !\n",
      "Moviepy - video ready /Users/curtisjhu/notebooks/reinforcement-learning/videos/test-video-episode-7.mp4\n",
      "Moviepy - Building video /Users/curtisjhu/notebooks/reinforcement-learning/videos/test-video-episode-8.mp4.\n",
      "Moviepy - Writing video /Users/curtisjhu/notebooks/reinforcement-learning/videos/test-video-episode-8.mp4\n",
      "\n"
     ]
    },
    {
     "name": "stderr",
     "output_type": "stream",
     "text": [
      "                                                   \r"
     ]
    },
    {
     "name": "stdout",
     "output_type": "stream",
     "text": [
      "Moviepy - Done !\n",
      "Moviepy - video ready /Users/curtisjhu/notebooks/reinforcement-learning/videos/test-video-episode-8.mp4\n",
      "Moviepy - Building video /Users/curtisjhu/notebooks/reinforcement-learning/videos/test-video-episode-9.mp4.\n",
      "Moviepy - Writing video /Users/curtisjhu/notebooks/reinforcement-learning/videos/test-video-episode-9.mp4\n",
      "\n"
     ]
    },
    {
     "name": "stderr",
     "output_type": "stream",
     "text": [
      "                                                   \r"
     ]
    },
    {
     "name": "stdout",
     "output_type": "stream",
     "text": [
      "Moviepy - Done !\n",
      "Moviepy - video ready /Users/curtisjhu/notebooks/reinforcement-learning/videos/test-video-episode-9.mp4\n",
      "Moviepy - Building video /Users/curtisjhu/notebooks/reinforcement-learning/videos/test-video-episode-10.mp4.\n",
      "Moviepy - Writing video /Users/curtisjhu/notebooks/reinforcement-learning/videos/test-video-episode-10.mp4\n",
      "\n"
     ]
    },
    {
     "name": "stderr",
     "output_type": "stream",
     "text": [
      "                                                   \r"
     ]
    },
    {
     "name": "stdout",
     "output_type": "stream",
     "text": [
      "Moviepy - Done !\n",
      "Moviepy - video ready /Users/curtisjhu/notebooks/reinforcement-learning/videos/test-video-episode-10.mp4\n",
      "Moviepy - Building video /Users/curtisjhu/notebooks/reinforcement-learning/videos/test-video-episode-11.mp4.\n",
      "Moviepy - Writing video /Users/curtisjhu/notebooks/reinforcement-learning/videos/test-video-episode-11.mp4\n",
      "\n"
     ]
    },
    {
     "name": "stderr",
     "output_type": "stream",
     "text": [
      "                                                   \r"
     ]
    },
    {
     "name": "stdout",
     "output_type": "stream",
     "text": [
      "Moviepy - Done !\n",
      "Moviepy - video ready /Users/curtisjhu/notebooks/reinforcement-learning/videos/test-video-episode-11.mp4\n",
      "Moviepy - Building video /Users/curtisjhu/notebooks/reinforcement-learning/videos/test-video-episode-12.mp4.\n",
      "Moviepy - Writing video /Users/curtisjhu/notebooks/reinforcement-learning/videos/test-video-episode-12.mp4\n",
      "\n"
     ]
    },
    {
     "name": "stderr",
     "output_type": "stream",
     "text": [
      "                                                   \r"
     ]
    },
    {
     "name": "stdout",
     "output_type": "stream",
     "text": [
      "Moviepy - Done !\n",
      "Moviepy - video ready /Users/curtisjhu/notebooks/reinforcement-learning/videos/test-video-episode-12.mp4\n",
      "Moviepy - Building video /Users/curtisjhu/notebooks/reinforcement-learning/videos/test-video-episode-13.mp4.\n",
      "Moviepy - Writing video /Users/curtisjhu/notebooks/reinforcement-learning/videos/test-video-episode-13.mp4\n",
      "\n"
     ]
    },
    {
     "name": "stderr",
     "output_type": "stream",
     "text": [
      "                                                   \r"
     ]
    },
    {
     "name": "stdout",
     "output_type": "stream",
     "text": [
      "Moviepy - Done !\n",
      "Moviepy - video ready /Users/curtisjhu/notebooks/reinforcement-learning/videos/test-video-episode-13.mp4\n",
      "Moviepy - Building video /Users/curtisjhu/notebooks/reinforcement-learning/videos/test-video-episode-14.mp4.\n",
      "Moviepy - Writing video /Users/curtisjhu/notebooks/reinforcement-learning/videos/test-video-episode-14.mp4\n",
      "\n"
     ]
    },
    {
     "name": "stderr",
     "output_type": "stream",
     "text": [
      "                                                   \r"
     ]
    },
    {
     "name": "stdout",
     "output_type": "stream",
     "text": [
      "Moviepy - Done !\n",
      "Moviepy - video ready /Users/curtisjhu/notebooks/reinforcement-learning/videos/test-video-episode-14.mp4\n",
      "Moviepy - Building video /Users/curtisjhu/notebooks/reinforcement-learning/videos/test-video-episode-15.mp4.\n",
      "Moviepy - Writing video /Users/curtisjhu/notebooks/reinforcement-learning/videos/test-video-episode-15.mp4\n",
      "\n"
     ]
    },
    {
     "name": "stderr",
     "output_type": "stream",
     "text": [
      "                                                   \r"
     ]
    },
    {
     "name": "stdout",
     "output_type": "stream",
     "text": [
      "Moviepy - Done !\n",
      "Moviepy - video ready /Users/curtisjhu/notebooks/reinforcement-learning/videos/test-video-episode-15.mp4\n",
      "Moviepy - Building video /Users/curtisjhu/notebooks/reinforcement-learning/videos/test-video-episode-16.mp4.\n",
      "Moviepy - Writing video /Users/curtisjhu/notebooks/reinforcement-learning/videos/test-video-episode-16.mp4\n",
      "\n"
     ]
    },
    {
     "name": "stderr",
     "output_type": "stream",
     "text": [
      "                                                   "
     ]
    },
    {
     "name": "stdout",
     "output_type": "stream",
     "text": [
      "Moviepy - Done !\n",
      "Moviepy - video ready /Users/curtisjhu/notebooks/reinforcement-learning/videos/test-video-episode-16.mp4\n"
     ]
    },
    {
     "name": "stderr",
     "output_type": "stream",
     "text": [
      "\r"
     ]
    },
    {
     "name": "stdout",
     "output_type": "stream",
     "text": [
      "Moviepy - Building video /Users/curtisjhu/notebooks/reinforcement-learning/videos/test-video-episode-17.mp4.\n",
      "Moviepy - Writing video /Users/curtisjhu/notebooks/reinforcement-learning/videos/test-video-episode-17.mp4\n",
      "\n"
     ]
    },
    {
     "name": "stderr",
     "output_type": "stream",
     "text": [
      "                                                   \r"
     ]
    },
    {
     "name": "stdout",
     "output_type": "stream",
     "text": [
      "Moviepy - Done !\n",
      "Moviepy - video ready /Users/curtisjhu/notebooks/reinforcement-learning/videos/test-video-episode-17.mp4\n",
      "Moviepy - Building video /Users/curtisjhu/notebooks/reinforcement-learning/videos/test-video-episode-18.mp4.\n",
      "Moviepy - Writing video /Users/curtisjhu/notebooks/reinforcement-learning/videos/test-video-episode-18.mp4\n",
      "\n"
     ]
    },
    {
     "name": "stderr",
     "output_type": "stream",
     "text": [
      "                                                   \r"
     ]
    },
    {
     "name": "stdout",
     "output_type": "stream",
     "text": [
      "Moviepy - Done !\n",
      "Moviepy - video ready /Users/curtisjhu/notebooks/reinforcement-learning/videos/test-video-episode-18.mp4\n",
      "Moviepy - Building video /Users/curtisjhu/notebooks/reinforcement-learning/videos/test-video-episode-19.mp4.\n",
      "Moviepy - Writing video /Users/curtisjhu/notebooks/reinforcement-learning/videos/test-video-episode-19.mp4\n",
      "\n"
     ]
    },
    {
     "name": "stderr",
     "output_type": "stream",
     "text": [
      "                                                   \r"
     ]
    },
    {
     "name": "stdout",
     "output_type": "stream",
     "text": [
      "Moviepy - Done !\n",
      "Moviepy - video ready /Users/curtisjhu/notebooks/reinforcement-learning/videos/test-video-episode-19.mp4\n",
      "Moviepy - Building video /Users/curtisjhu/notebooks/reinforcement-learning/videos/test-video-episode-20.mp4.\n",
      "Moviepy - Writing video /Users/curtisjhu/notebooks/reinforcement-learning/videos/test-video-episode-20.mp4\n",
      "\n"
     ]
    },
    {
     "name": "stderr",
     "output_type": "stream",
     "text": [
      "                                                   \r"
     ]
    },
    {
     "name": "stdout",
     "output_type": "stream",
     "text": [
      "Moviepy - Done !\n",
      "Moviepy - video ready /Users/curtisjhu/notebooks/reinforcement-learning/videos/test-video-episode-20.mp4\n",
      "Moviepy - Building video /Users/curtisjhu/notebooks/reinforcement-learning/videos/test-video-episode-21.mp4.\n",
      "Moviepy - Writing video /Users/curtisjhu/notebooks/reinforcement-learning/videos/test-video-episode-21.mp4\n",
      "\n"
     ]
    },
    {
     "name": "stderr",
     "output_type": "stream",
     "text": [
      "                                                   \r"
     ]
    },
    {
     "name": "stdout",
     "output_type": "stream",
     "text": [
      "Moviepy - Done !\n",
      "Moviepy - video ready /Users/curtisjhu/notebooks/reinforcement-learning/videos/test-video-episode-21.mp4\n",
      "Moviepy - Building video /Users/curtisjhu/notebooks/reinforcement-learning/videos/test-video-episode-22.mp4.\n",
      "Moviepy - Writing video /Users/curtisjhu/notebooks/reinforcement-learning/videos/test-video-episode-22.mp4\n",
      "\n"
     ]
    },
    {
     "name": "stderr",
     "output_type": "stream",
     "text": [
      "                                                   \r"
     ]
    },
    {
     "name": "stdout",
     "output_type": "stream",
     "text": [
      "Moviepy - Done !\n",
      "Moviepy - video ready /Users/curtisjhu/notebooks/reinforcement-learning/videos/test-video-episode-22.mp4\n",
      "Moviepy - Building video /Users/curtisjhu/notebooks/reinforcement-learning/videos/test-video-episode-23.mp4.\n",
      "Moviepy - Writing video /Users/curtisjhu/notebooks/reinforcement-learning/videos/test-video-episode-23.mp4\n",
      "\n"
     ]
    },
    {
     "name": "stderr",
     "output_type": "stream",
     "text": [
      "                                                   \r"
     ]
    },
    {
     "name": "stdout",
     "output_type": "stream",
     "text": [
      "Moviepy - Done !\n",
      "Moviepy - video ready /Users/curtisjhu/notebooks/reinforcement-learning/videos/test-video-episode-23.mp4\n",
      "Moviepy - Building video /Users/curtisjhu/notebooks/reinforcement-learning/videos/test-video-episode-24.mp4.\n",
      "Moviepy - Writing video /Users/curtisjhu/notebooks/reinforcement-learning/videos/test-video-episode-24.mp4\n",
      "\n"
     ]
    },
    {
     "name": "stderr",
     "output_type": "stream",
     "text": [
      "                                                   \r"
     ]
    },
    {
     "name": "stdout",
     "output_type": "stream",
     "text": [
      "Moviepy - Done !\n",
      "Moviepy - video ready /Users/curtisjhu/notebooks/reinforcement-learning/videos/test-video-episode-24.mp4\n",
      "Moviepy - Building video /Users/curtisjhu/notebooks/reinforcement-learning/videos/test-video-episode-25.mp4.\n",
      "Moviepy - Writing video /Users/curtisjhu/notebooks/reinforcement-learning/videos/test-video-episode-25.mp4\n",
      "\n"
     ]
    },
    {
     "name": "stderr",
     "output_type": "stream",
     "text": [
      "                                                   \r"
     ]
    },
    {
     "name": "stdout",
     "output_type": "stream",
     "text": [
      "Moviepy - Done !\n",
      "Moviepy - video ready /Users/curtisjhu/notebooks/reinforcement-learning/videos/test-video-episode-25.mp4\n",
      "Moviepy - Building video /Users/curtisjhu/notebooks/reinforcement-learning/videos/test-video-episode-26.mp4.\n",
      "Moviepy - Writing video /Users/curtisjhu/notebooks/reinforcement-learning/videos/test-video-episode-26.mp4\n",
      "\n"
     ]
    },
    {
     "name": "stderr",
     "output_type": "stream",
     "text": [
      "                                                   \r"
     ]
    },
    {
     "name": "stdout",
     "output_type": "stream",
     "text": [
      "Moviepy - Done !\n",
      "Moviepy - video ready /Users/curtisjhu/notebooks/reinforcement-learning/videos/test-video-episode-26.mp4\n",
      "Moviepy - Building video /Users/curtisjhu/notebooks/reinforcement-learning/videos/test-video-episode-27.mp4.\n",
      "Moviepy - Writing video /Users/curtisjhu/notebooks/reinforcement-learning/videos/test-video-episode-27.mp4\n",
      "\n"
     ]
    },
    {
     "name": "stderr",
     "output_type": "stream",
     "text": [
      "                                                   \r"
     ]
    },
    {
     "name": "stdout",
     "output_type": "stream",
     "text": [
      "Moviepy - Done !\n",
      "Moviepy - video ready /Users/curtisjhu/notebooks/reinforcement-learning/videos/test-video-episode-27.mp4\n",
      "Moviepy - Building video /Users/curtisjhu/notebooks/reinforcement-learning/videos/test-video-episode-28.mp4.\n",
      "Moviepy - Writing video /Users/curtisjhu/notebooks/reinforcement-learning/videos/test-video-episode-28.mp4\n",
      "\n"
     ]
    },
    {
     "name": "stderr",
     "output_type": "stream",
     "text": [
      "                                                   \r"
     ]
    },
    {
     "name": "stdout",
     "output_type": "stream",
     "text": [
      "Moviepy - Done !\n",
      "Moviepy - video ready /Users/curtisjhu/notebooks/reinforcement-learning/videos/test-video-episode-28.mp4\n",
      "Moviepy - Building video /Users/curtisjhu/notebooks/reinforcement-learning/videos/test-video-episode-29.mp4.\n",
      "Moviepy - Writing video /Users/curtisjhu/notebooks/reinforcement-learning/videos/test-video-episode-29.mp4\n",
      "\n"
     ]
    },
    {
     "name": "stderr",
     "output_type": "stream",
     "text": [
      "                                                   \r"
     ]
    },
    {
     "name": "stdout",
     "output_type": "stream",
     "text": [
      "Moviepy - Done !\n",
      "Moviepy - video ready /Users/curtisjhu/notebooks/reinforcement-learning/videos/test-video-episode-29.mp4\n",
      "Moviepy - Building video /Users/curtisjhu/notebooks/reinforcement-learning/videos/test-video-episode-30.mp4.\n",
      "Moviepy - Writing video /Users/curtisjhu/notebooks/reinforcement-learning/videos/test-video-episode-30.mp4\n",
      "\n"
     ]
    },
    {
     "name": "stderr",
     "output_type": "stream",
     "text": [
      "                                                   \r"
     ]
    },
    {
     "name": "stdout",
     "output_type": "stream",
     "text": [
      "Moviepy - Done !\n",
      "Moviepy - video ready /Users/curtisjhu/notebooks/reinforcement-learning/videos/test-video-episode-30.mp4\n",
      "Moviepy - Building video /Users/curtisjhu/notebooks/reinforcement-learning/videos/test-video-episode-31.mp4.\n",
      "Moviepy - Writing video /Users/curtisjhu/notebooks/reinforcement-learning/videos/test-video-episode-31.mp4\n",
      "\n"
     ]
    },
    {
     "name": "stderr",
     "output_type": "stream",
     "text": [
      "                                                   \r"
     ]
    },
    {
     "name": "stdout",
     "output_type": "stream",
     "text": [
      "Moviepy - Done !\n",
      "Moviepy - video ready /Users/curtisjhu/notebooks/reinforcement-learning/videos/test-video-episode-31.mp4\n",
      "Moviepy - Building video /Users/curtisjhu/notebooks/reinforcement-learning/videos/test-video-episode-32.mp4.\n",
      "Moviepy - Writing video /Users/curtisjhu/notebooks/reinforcement-learning/videos/test-video-episode-32.mp4\n",
      "\n"
     ]
    },
    {
     "name": "stderr",
     "output_type": "stream",
     "text": [
      "                                                   \r"
     ]
    },
    {
     "name": "stdout",
     "output_type": "stream",
     "text": [
      "Moviepy - Done !\n",
      "Moviepy - video ready /Users/curtisjhu/notebooks/reinforcement-learning/videos/test-video-episode-32.mp4\n",
      "Moviepy - Building video /Users/curtisjhu/notebooks/reinforcement-learning/videos/test-video-episode-33.mp4.\n",
      "Moviepy - Writing video /Users/curtisjhu/notebooks/reinforcement-learning/videos/test-video-episode-33.mp4\n",
      "\n"
     ]
    },
    {
     "name": "stderr",
     "output_type": "stream",
     "text": [
      "                                                   \r"
     ]
    },
    {
     "name": "stdout",
     "output_type": "stream",
     "text": [
      "Moviepy - Done !\n",
      "Moviepy - video ready /Users/curtisjhu/notebooks/reinforcement-learning/videos/test-video-episode-33.mp4\n",
      "Moviepy - Building video /Users/curtisjhu/notebooks/reinforcement-learning/videos/test-video-episode-34.mp4.\n",
      "Moviepy - Writing video /Users/curtisjhu/notebooks/reinforcement-learning/videos/test-video-episode-34.mp4\n",
      "\n"
     ]
    },
    {
     "name": "stderr",
     "output_type": "stream",
     "text": [
      "                                                   \r"
     ]
    },
    {
     "name": "stdout",
     "output_type": "stream",
     "text": [
      "Moviepy - Done !\n",
      "Moviepy - video ready /Users/curtisjhu/notebooks/reinforcement-learning/videos/test-video-episode-34.mp4\n",
      "Moviepy - Building video /Users/curtisjhu/notebooks/reinforcement-learning/videos/test-video-episode-35.mp4.\n",
      "Moviepy - Writing video /Users/curtisjhu/notebooks/reinforcement-learning/videos/test-video-episode-35.mp4\n",
      "\n"
     ]
    },
    {
     "name": "stderr",
     "output_type": "stream",
     "text": [
      "                                                   \r"
     ]
    },
    {
     "name": "stdout",
     "output_type": "stream",
     "text": [
      "Moviepy - Done !\n",
      "Moviepy - video ready /Users/curtisjhu/notebooks/reinforcement-learning/videos/test-video-episode-35.mp4\n",
      "Moviepy - Building video /Users/curtisjhu/notebooks/reinforcement-learning/videos/test-video-episode-36.mp4.\n",
      "Moviepy - Writing video /Users/curtisjhu/notebooks/reinforcement-learning/videos/test-video-episode-36.mp4\n",
      "\n"
     ]
    },
    {
     "name": "stderr",
     "output_type": "stream",
     "text": [
      "                                                   \r"
     ]
    },
    {
     "name": "stdout",
     "output_type": "stream",
     "text": [
      "Moviepy - Done !\n",
      "Moviepy - video ready /Users/curtisjhu/notebooks/reinforcement-learning/videos/test-video-episode-36.mp4\n",
      "Moviepy - Building video /Users/curtisjhu/notebooks/reinforcement-learning/videos/test-video-episode-37.mp4.\n",
      "Moviepy - Writing video /Users/curtisjhu/notebooks/reinforcement-learning/videos/test-video-episode-37.mp4\n",
      "\n"
     ]
    },
    {
     "name": "stderr",
     "output_type": "stream",
     "text": [
      "                                                   \r"
     ]
    },
    {
     "name": "stdout",
     "output_type": "stream",
     "text": [
      "Moviepy - Done !\n",
      "Moviepy - video ready /Users/curtisjhu/notebooks/reinforcement-learning/videos/test-video-episode-37.mp4\n",
      "Moviepy - Building video /Users/curtisjhu/notebooks/reinforcement-learning/videos/test-video-episode-38.mp4.\n",
      "Moviepy - Writing video /Users/curtisjhu/notebooks/reinforcement-learning/videos/test-video-episode-38.mp4\n",
      "\n"
     ]
    },
    {
     "name": "stderr",
     "output_type": "stream",
     "text": [
      "                                                   \r"
     ]
    },
    {
     "name": "stdout",
     "output_type": "stream",
     "text": [
      "Moviepy - Done !\n",
      "Moviepy - video ready /Users/curtisjhu/notebooks/reinforcement-learning/videos/test-video-episode-38.mp4\n",
      "Moviepy - Building video /Users/curtisjhu/notebooks/reinforcement-learning/videos/test-video-episode-39.mp4.\n",
      "Moviepy - Writing video /Users/curtisjhu/notebooks/reinforcement-learning/videos/test-video-episode-39.mp4\n",
      "\n"
     ]
    },
    {
     "name": "stderr",
     "output_type": "stream",
     "text": [
      "                                                   \r"
     ]
    },
    {
     "name": "stdout",
     "output_type": "stream",
     "text": [
      "Moviepy - Done !\n",
      "Moviepy - video ready /Users/curtisjhu/notebooks/reinforcement-learning/videos/test-video-episode-39.mp4\n",
      "Moviepy - Building video /Users/curtisjhu/notebooks/reinforcement-learning/videos/test-video-episode-40.mp4.\n",
      "Moviepy - Writing video /Users/curtisjhu/notebooks/reinforcement-learning/videos/test-video-episode-40.mp4\n",
      "\n"
     ]
    },
    {
     "name": "stderr",
     "output_type": "stream",
     "text": [
      "                                                   \r"
     ]
    },
    {
     "name": "stdout",
     "output_type": "stream",
     "text": [
      "Moviepy - Done !\n",
      "Moviepy - video ready /Users/curtisjhu/notebooks/reinforcement-learning/videos/test-video-episode-40.mp4\n",
      "Moviepy - Building video /Users/curtisjhu/notebooks/reinforcement-learning/videos/test-video-episode-41.mp4.\n",
      "Moviepy - Writing video /Users/curtisjhu/notebooks/reinforcement-learning/videos/test-video-episode-41.mp4\n",
      "\n"
     ]
    },
    {
     "name": "stderr",
     "output_type": "stream",
     "text": [
      "                                                   \r"
     ]
    },
    {
     "name": "stdout",
     "output_type": "stream",
     "text": [
      "Moviepy - Done !\n",
      "Moviepy - video ready /Users/curtisjhu/notebooks/reinforcement-learning/videos/test-video-episode-41.mp4\n",
      "Moviepy - Building video /Users/curtisjhu/notebooks/reinforcement-learning/videos/test-video-episode-42.mp4.\n",
      "Moviepy - Writing video /Users/curtisjhu/notebooks/reinforcement-learning/videos/test-video-episode-42.mp4\n",
      "\n"
     ]
    },
    {
     "name": "stderr",
     "output_type": "stream",
     "text": [
      "                                                   \r"
     ]
    },
    {
     "name": "stdout",
     "output_type": "stream",
     "text": [
      "Moviepy - Done !\n",
      "Moviepy - video ready /Users/curtisjhu/notebooks/reinforcement-learning/videos/test-video-episode-42.mp4\n",
      "Moviepy - Building video /Users/curtisjhu/notebooks/reinforcement-learning/videos/test-video-episode-43.mp4.\n",
      "Moviepy - Writing video /Users/curtisjhu/notebooks/reinforcement-learning/videos/test-video-episode-43.mp4\n",
      "\n"
     ]
    },
    {
     "name": "stderr",
     "output_type": "stream",
     "text": [
      "                                                   \r"
     ]
    },
    {
     "name": "stdout",
     "output_type": "stream",
     "text": [
      "Moviepy - Done !\n",
      "Moviepy - video ready /Users/curtisjhu/notebooks/reinforcement-learning/videos/test-video-episode-43.mp4\n",
      "Moviepy - Building video /Users/curtisjhu/notebooks/reinforcement-learning/videos/test-video-episode-44.mp4.\n",
      "Moviepy - Writing video /Users/curtisjhu/notebooks/reinforcement-learning/videos/test-video-episode-44.mp4\n",
      "\n"
     ]
    },
    {
     "name": "stderr",
     "output_type": "stream",
     "text": [
      "                                                   \r"
     ]
    },
    {
     "name": "stdout",
     "output_type": "stream",
     "text": [
      "Moviepy - Done !\n",
      "Moviepy - video ready /Users/curtisjhu/notebooks/reinforcement-learning/videos/test-video-episode-44.mp4\n",
      "Moviepy - Building video /Users/curtisjhu/notebooks/reinforcement-learning/videos/test-video-episode-45.mp4.\n",
      "Moviepy - Writing video /Users/curtisjhu/notebooks/reinforcement-learning/videos/test-video-episode-45.mp4\n",
      "\n"
     ]
    },
    {
     "name": "stderr",
     "output_type": "stream",
     "text": [
      "                                                   \r"
     ]
    },
    {
     "name": "stdout",
     "output_type": "stream",
     "text": [
      "Moviepy - Done !\n",
      "Moviepy - video ready /Users/curtisjhu/notebooks/reinforcement-learning/videos/test-video-episode-45.mp4\n",
      "Moviepy - Building video /Users/curtisjhu/notebooks/reinforcement-learning/videos/test-video-episode-46.mp4.\n",
      "Moviepy - Writing video /Users/curtisjhu/notebooks/reinforcement-learning/videos/test-video-episode-46.mp4\n",
      "\n"
     ]
    },
    {
     "name": "stderr",
     "output_type": "stream",
     "text": [
      "                                                   "
     ]
    },
    {
     "name": "stdout",
     "output_type": "stream",
     "text": [
      "Moviepy - Done !\n",
      "Moviepy - video ready /Users/curtisjhu/notebooks/reinforcement-learning/videos/test-video-episode-46.mp4\n",
      "Moviepy - Building video /Users/curtisjhu/notebooks/reinforcement-learning/videos/test-video-episode-47.mp4.\n",
      "Moviepy - Writing video /Users/curtisjhu/notebooks/reinforcement-learning/videos/test-video-episode-47.mp4\n",
      "\n"
     ]
    },
    {
     "name": "stderr",
     "output_type": "stream",
     "text": [
      "                                                   \r"
     ]
    },
    {
     "name": "stdout",
     "output_type": "stream",
     "text": [
      "Moviepy - Done !\n",
      "Moviepy - video ready /Users/curtisjhu/notebooks/reinforcement-learning/videos/test-video-episode-47.mp4\n",
      "Moviepy - Building video /Users/curtisjhu/notebooks/reinforcement-learning/videos/test-video-episode-48.mp4.\n",
      "Moviepy - Writing video /Users/curtisjhu/notebooks/reinforcement-learning/videos/test-video-episode-48.mp4\n",
      "\n"
     ]
    },
    {
     "name": "stderr",
     "output_type": "stream",
     "text": [
      "                                                  \r"
     ]
    },
    {
     "name": "stdout",
     "output_type": "stream",
     "text": [
      "Moviepy - Done !\n",
      "Moviepy - video ready /Users/curtisjhu/notebooks/reinforcement-learning/videos/test-video-episode-48.mp4\n"
     ]
    }
   ],
   "source": [
    "env.reset()\n",
    "env.start_video_recorder()\n",
    "\n",
    "for i in range(1000):\n",
    "  # env.action_space.sample() produces either 0 (left) or 1 (right).\n",
    "  input = env.action_space.sample()\n",
    "  observation, reward, terminated, truncated, info = env.step(input)\n",
    "\n",
    "  if terminated or truncated:\n",
    "    env.reset()\n",
    "\n",
    "env.close_video_recorder()\n",
    "env.close()"
   ]
  },
  {
   "cell_type": "code",
   "execution_count": null,
   "metadata": {},
   "outputs": [],
   "source": []
  },
  {
   "cell_type": "code",
   "execution_count": null,
   "metadata": {},
   "outputs": [],
   "source": []
  },
  {
   "cell_type": "code",
   "execution_count": null,
   "metadata": {},
   "outputs": [],
   "source": []
  }
 ],
 "metadata": {
  "kernelspec": {
   "display_name": "gymnasium",
   "language": "python",
   "name": "python3"
  },
  "language_info": {
   "codemirror_mode": {
    "name": "ipython",
    "version": 3
   },
   "file_extension": ".py",
   "mimetype": "text/x-python",
   "name": "python",
   "nbconvert_exporter": "python",
   "pygments_lexer": "ipython3",
   "version": "3.12.4"
  }
 },
 "nbformat": 4,
 "nbformat_minor": 2
}
