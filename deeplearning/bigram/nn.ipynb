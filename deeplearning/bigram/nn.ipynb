{
 "cells": [
  {
   "cell_type": "markdown",
   "metadata": {},
   "source": [
    "# Bigram Model but using NN to output a probability\n",
    "\n",
    "Same underlying idea but instead of manually counting frequencies, we'll use a NN to discover the probability distribution for each bigrams"
   ]
  },
  {
   "cell_type": "markdown",
   "metadata": {},
   "source": [
    "### Dataset"
   ]
  },
  {
   "cell_type": "code",
   "execution_count": 1,
   "metadata": {},
   "outputs": [
    {
     "data": {
      "text/plain": [
       "['emma', 'olivia', 'ava', 'isabella', 'sophia']"
      ]
     },
     "execution_count": 1,
     "metadata": {},
     "output_type": "execute_result"
    }
   ],
   "source": [
    "words = open('names.txt', 'r').read().splitlines()\n",
    "words[:5]"
   ]
  },
  {
   "cell_type": "markdown",
   "metadata": {},
   "source": [
    "I'm using a single layer to hopefully predict the same neg log-likelihood as by manually counting by frequency. In the other notebook, we were able to get the classical negative log-likelihood of `2.454094171524048`. Let's try to reach that."
   ]
  },
  {
   "cell_type": "code",
   "execution_count": null,
   "metadata": {},
   "outputs": [],
   "source": [
    "\n",
    "# ALL FROM PREVIOUS NOTEBOOK\n",
    "\n",
    "import torch\n",
    "\n",
    "alpha = '.abcdefghijklmnopqrstuvwxyz'\n",
    "# char to int\n",
    "ctoi = { x: i  for i, x in enumerate(alpha)}\n",
    "# int to char\n",
    "itoc = { i : x  for i, x in enumerate(alpha)}\n",
    "\n",
    "xs = []\n",
    "ys = []\n",
    "for w in words:\n",
    "\tw = [\".\"] + list(w) + [\".\"]\n",
    "\tfor ch1, ch2 in zip(w, w[1:]):\n",
    "\t\txs.append(ctoi[ch1])\n",
    "\t\tys.append(ctoi[ch2])"
   ]
  },
  {
   "cell_type": "markdown",
   "metadata": {},
   "source": [
    "Implementing with basic linear algebra\n",
    "\n",
    "Using one hot encoding.\n",
    "\n",
    "`a` is `1` which we'll represent as $\\vec{x} = [0,1,0...]$ with length of `27`\n",
    "\n",
    "$ \\vec{s} = relu(W \\cdot \\vec{x} + \\vec{b})$\n",
    "\n",
    "Then, we'll receive a probabiliy distribution over all possible tokens like `\\vec{s} = [0.12, 0.02, 0.0832,...]` with length of `27`"
   ]
  },
  {
   "cell_type": "code",
   "execution_count": null,
   "metadata": {},
   "outputs": [],
   "source": [
    "import numpy as np\n",
    "\n",
    "x = np.ones(len(alpha))\n",
    "W = np.ones(len(alpha))\n",
    "\n",
    "def loss(x):\n",
    "\tl = -np.log(x)\n",
    "\tl = l.sum()\n",
    "\treturn l"
   ]
  },
  {
   "cell_type": "markdown",
   "metadata": {},
   "source": [
    "Training"
   ]
  },
  {
   "cell_type": "code",
   "execution_count": null,
   "metadata": {},
   "outputs": [],
   "source": [
    "for i in range(100):\n",
    "\t\n",
    "\tpass"
   ]
  },
  {
   "cell_type": "markdown",
   "metadata": {},
   "source": [
    "## pytorch implementation"
   ]
  },
  {
   "cell_type": "code",
   "execution_count": null,
   "metadata": {},
   "outputs": [],
   "source": [
    "x = torch.ones(len(alpha))\n",
    "\n",
    "\n",
    "for i in range(100):\n",
    "\tx.forward()\n",
    "\tx.backward()"
   ]
  }
 ],
 "metadata": {
  "kernelspec": {
   "display_name": "dl",
   "language": "python",
   "name": "python3"
  },
  "language_info": {
   "codemirror_mode": {
    "name": "ipython",
    "version": 3
   },
   "file_extension": ".py",
   "mimetype": "text/x-python",
   "name": "python",
   "nbconvert_exporter": "python",
   "pygments_lexer": "ipython3",
   "version": "3.12.3"
  }
 },
 "nbformat": 4,
 "nbformat_minor": 2
}
