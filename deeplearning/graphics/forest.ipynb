{
 "cells": [
  {
   "cell_type": "markdown",
   "metadata": {},
   "source": [
    "# Random Trees\n",
    "\n",
    "Seems to be used to rank importance of features in a regression or classification problem. \n",
    "For example, given a list of sympotoms, give us a value telling the condition of the patient.\n",
    "\n",
    "As used in (Jiang et al.) to predict feature importance in mesh metrics. \n",
    "\n",
    "Classification is where $\\phi : X \\rightarrow Y$ where $Y = \\{ c_1, c_2 ...\\}$ (labeled finite set)\n",
    "\n",
    "Regressor is where $\\phi : X \\rightarrow Y$ where $Y = \\R$"
   ]
  },
  {
   "cell_type": "code",
   "execution_count": null,
   "metadata": {},
   "outputs": [],
   "source": [
    "import numpy as np"
   ]
  },
  {
   "cell_type": "markdown",
   "metadata": {},
   "source": [
    "### References\n",
    "\n",
    "M. Jiang, B. Gallagher, J. Kallman and D. Laney, \"A Supervised Learning Framework for Arbitrary Lagrangian-Eulerian Simulations,\" 2016 15th IEEE International Conference on Machine Learning and Applications (ICMLA), Anaheim, CA, USA, 2016, pp. 977-982, doi: 10.1109/ICMLA.2016.0176. keywords: {Measurement;Predictive models;Computational modeling;Supervised learning;Numerical models;Prediction algorithms;Data models},\n",
    "\n"
   ]
  },
  {
   "cell_type": "markdown",
   "metadata": {},
   "source": []
  }
 ],
 "metadata": {
  "language_info": {
   "name": "python"
  }
 },
 "nbformat": 4,
 "nbformat_minor": 2
}
