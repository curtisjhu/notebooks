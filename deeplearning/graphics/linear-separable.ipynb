{
 "cells": [
  {
   "cell_type": "code",
   "execution_count": 1,
   "metadata": {},
   "outputs": [],
   "source": [
    "import numpy as np\n",
    "import matplotlib.pyplot as plt"
   ]
  },
  {
   "cell_type": "code",
   "execution_count": 22,
   "metadata": {},
   "outputs": [
    {
     "data": {
      "image/png": "[encoded data removed]",
      "text/plain": [
       "<Figure size 640x480 with 1 Axes>"
      ]
     },
     "metadata": {},
     "output_type": "display_data"
    }
   ],
   "source": [
    "BATCH_HALF = 10\n",
    "\n",
    "circle_origin, asterisk_origin = np.random.rand(2), np.random.rand(2) \n",
    "\n",
    "sigma = 0.3\n",
    "circles = np.array([sigma*np.random.randn(2) + circle_origin for _ in range(BATCH_HALF)])\n",
    "asterisks = np.array([sigma*np.random.randn(2) + asterisk_origin for _ in range(BATCH_HALF)])\n",
    "\n",
    "plt.scatter(circles[:, 0], circles[:, 1])\n",
    "plt.scatter(asterisks[:, 0], asterisks[:, 1], marker=(5,2))\n",
    "plt.show()"
   ]
  },
  {
   "cell_type": "code",
   "execution_count": 23,
   "metadata": {},
   "outputs": [],
   "source": [
    "w = np.ones(2)\n",
    "b = np.ones(2)"
   ]
  },
  {
   "cell_type": "code",
   "execution_count": 34,
   "metadata": {},
   "outputs": [
    {
     "ename": "TypeError",
     "evalue": "only integer scalar arrays can be converted to a scalar index",
     "output_type": "error",
     "traceback": [
      "\u001b[0;31m---------------------------------------------------------------------------\u001b[0m",
      "\u001b[0;31mTypeError\u001b[0m                                 Traceback (most recent call last)",
      "Cell \u001b[0;32mIn[34], line 10\u001b[0m\n\u001b[1;32m      8\u001b[0m \t\t\u001b[38;5;28mprint\u001b[39m(x)\n\u001b[1;32m      9\u001b[0m \t\u001b[38;5;28;01melse\u001b[39;00m:\n\u001b[0;32m---> 10\u001b[0m \t\tx \u001b[38;5;241m=\u001b[39m \u001b[43mnp\u001b[49m\u001b[38;5;241;43m.\u001b[39;49m\u001b[43mconcatenate\u001b[49m\u001b[43m(\u001b[49m\u001b[43mx\u001b[49m\u001b[43m,\u001b[49m\u001b[43m \u001b[49m\u001b[43mcircles\u001b[49m\u001b[43m[\u001b[49m\u001b[43mnp\u001b[49m\u001b[38;5;241;43m.\u001b[39;49m\u001b[43marray\u001b[49m\u001b[43m(\u001b[49m\u001b[43mnp\u001b[49m\u001b[38;5;241;43m.\u001b[39;49m\u001b[43mrandom\u001b[49m\u001b[38;5;241;43m.\u001b[39;49m\u001b[43mchoice\u001b[49m\u001b[43m(\u001b[49m\u001b[43mBATCH_HALF\u001b[49m\u001b[43m)\u001b[49m\u001b[43m)\u001b[49m\u001b[43m]\u001b[49m\u001b[43m \u001b[49m\u001b[43m)\u001b[49m\n\u001b[1;32m     12\u001b[0m \u001b[38;5;66;03m# forward prop\u001b[39;00m\n\u001b[1;32m     13\u001b[0m u \u001b[38;5;241m=\u001b[39m w \u001b[38;5;241m*\u001b[39m x\n",
      "\u001b[0;31mTypeError\u001b[0m: only integer scalar arrays can be converted to a scalar index"
     ]
    }
   ],
   "source": [
    "for i in range(800):\n",
    "\tx, y_actual = np.array([]), np.array([])\n",
    "\tfor j in np.random.choice(2, BATCH_HALF*2):\n",
    "\t\ty_actual = np.append(y_actual, j)\n",
    "\t\tif j == 1:\n",
    "\t\t\tprint(x)\n",
    "\t\t\tx = np.concatenate(x, asterisks[np.array(np.random.choice(BATCH_HALF))] )\n",
    "\t\t\tprint(x)\n",
    "\t\telse:\n",
    "\t\t\tx = np.concatenate(x, circles[np.array(np.random.choice(BATCH_HALF))] )\n",
    "\n",
    "\t# forward prop\n",
    "\tu = w * x\n",
    "\n",
    "\tz = u + b\n",
    "\n",
    "\ty = sigma(z)\n",
    "\n",
    "\t# we are doing log loss on each individual example NOT on the entire batch.\n",
    "\tlogloss = np.mean( -y_actual * np.log(y) - (1-y_actual) * np.log(1-y))\n",
    "\tprint(\"Cross Entropy Loss: \", logloss)\n",
    "\tif np.isnan(logloss).any():\n",
    "\t\tprint(\"Log loss exploded too much!\")\n",
    "\t\tbreak\n",
    "\n",
    "\n",
    "\t# backprop now\n",
    "\ttemp = (-y_actual / y - (1-y_actual) / (1- y)) * y * (1-y)\n",
    "\n",
    "\tb = np.mean(b - epsilon * temp)\n",
    "\tw = np.mean(w - epsilon * temp * x)\n",
    "\t"
   ]
  },
  {
   "cell_type": "markdown",
   "metadata": {},
   "source": []
  },
  {
   "cell_type": "markdown",
   "metadata": {},
   "source": [
    "# SVM"
   ]
  },
  {
   "cell_type": "markdown",
   "metadata": {},
   "source": [
    "# PCA"
   ]
  },
  {
   "cell_type": "code",
   "execution_count": null,
   "metadata": {},
   "outputs": [],
   "source": []
  }
 ],
 "metadata": {
  "kernelspec": {
   "display_name": "dl",
   "language": "python",
   "name": "python3"
  },
  "language_info": {
   "codemirror_mode": {
    "name": "ipython",
    "version": 3
   },
   "file_extension": ".py",
   "mimetype": "text/x-python",
   "name": "python",
   "nbconvert_exporter": "python",
   "pygments_lexer": "ipython3",
   "version": "3.12.2"
  }
 },
 "nbformat": 4,
 "nbformat_minor": 2
}
