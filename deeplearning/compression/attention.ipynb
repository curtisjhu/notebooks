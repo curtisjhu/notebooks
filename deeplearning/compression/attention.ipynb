{
 "cells": [
  {
   "cell_type": "markdown",
   "metadata": {},
   "source": [
    "# How do humans store information\n",
    "\n",
    "We compress information for only relevant for the future (based on our evolutionary past). I want to explore storing relevant embeddings within a framework of thinking such that it'll allow much more higher compression rates. Call it evolutionary compression."
   ]
  },
  {
   "cell_type": "code",
   "execution_count": null,
   "metadata": {},
   "outputs": [],
   "source": []
  }
 ],
 "metadata": {
  "language_info": {
   "name": "python"
  }
 },
 "nbformat": 4,
 "nbformat_minor": 2
}
