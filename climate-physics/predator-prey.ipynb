{
 "cells": [
  {
   "cell_type": "markdown",
   "metadata": {},
   "source": [
    "# Predator Prey Models (Lotka-Volterra Equations)\n",
    "\n",
    "In order for a ecological system to be sustainable, there must be a circular system.\n",
    "The most simple case is a two party system where one's waste is the other's resources.\n",
    "The population sizes of these parties adjust accordingly to available resources.\n",
    "\n",
    "This follows the Predator Prey Model or Lotka-Volterra Equations\n",
    "\n",
    "$ \\frac{}{} $\n"
   ]
  },
  {
   "cell_type": "code",
   "execution_count": null,
   "metadata": {},
   "outputs": [],
   "source": []
  },
  {
   "cell_type": "markdown",
   "metadata": {},
   "source": [
    "## Applying Lotka-Volterra equations to economic systems"
   ]
  },
  {
   "cell_type": "markdown",
   "metadata": {},
   "source": []
  }
 ],
 "metadata": {
  "language_info": {
   "name": "python"
  }
 },
 "nbformat": 4,
 "nbformat_minor": 2
}
