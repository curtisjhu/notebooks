{
 "cells": [
  {
   "cell_type": "markdown",
   "metadata": {},
   "source": [
    "# Finite Difference Methods\n",
    "\n",
    "(Richtmyer and Morton) Dense book but I like it."
   ]
  },
  {
   "cell_type": "markdown",
   "metadata": {},
   "source": [
    "### IVP problems\n",
    "\n",
    "So for various branches of continuum physics such as heat flow, diffusion, fluid dynamics, magneto-fluid dynamics, acoustics, electromagnetism, wave mechanics, radiation transfer, neutron transfer and elastic vibrations. \n",
    "\n",
    "The equations of the nature such that if a state of the physical system is arbitrarily specified at $t = t_0$, then a solution exists for $t \\geq t_0$ and is uniquely by the equations with some boundary conditions. A steady state isn't guaranteed.\n",
    "\n",
    "Finite-difference methods approximate a numerical solution rather than giving an analytical solution (exact and derived by hand). Analytical solutions are not often found or difficult to work with. they are what we use in computers since computers can only handle discrete values. "
   ]
  },
  {
   "cell_type": "markdown",
   "metadata": {},
   "source": [
    "### Heat Flow Problem\n",
    "\n",
    "Imagine having a thin insulated rod such that heat can transfer from one large slab of uniform temperature to another slab.\n",
    "\n",
    "$$ a \\frac{\\partial u}{\\partial t} = \\frac{\\partial}{\\partial x} K \\frac{\\partial u}{\\partial x} $$"
   ]
  },
  {
   "cell_type": "code",
   "execution_count": null,
   "metadata": {},
   "outputs": [],
   "source": []
  },
  {
   "cell_type": "markdown",
   "metadata": {},
   "source": [
    "## Least Squares Gradient\n",
    "\n",
    "For each cell there is a zone-centered value $T_p$. For each edge, you face a neighbor with zone-centered value of $T_{Ni}$ with a unit vector pointing towards it $\\vec{d}_{Ni}$\n",
    "\n",
    "$$ \\vec{T_{Ni}} = \\vec{T_P} + \\vec{d_{Ni}} \\cdot \\left( \\nabla T \\right)_{P}$$\n",
    "\n",
    "We can rewrite this in the form $Ax = B$:\n",
    "\n",
    "$$ \\vec{d_{Ni}} \\cdot \\left( \\nabla T \\right)_{P} = \\vec{T_{Ni}} - \\vec{T_P} + \\vec{\\epsilon} $$\n",
    "\n",
    "To minimize the error, we use least squares.\n",
    "\n",
    "$$ \\left( \\nabla T \\right)_{P} = (d^T d^{-1}) d^T (\\vec{T_{Ni}} - \\vec{T_P}) $$\n",
    "\n"
   ]
  },
  {
   "cell_type": "code",
   "execution_count": null,
   "metadata": {},
   "outputs": [],
   "source": []
  },
  {
   "cell_type": "markdown",
   "metadata": {},
   "source": [
    "## Green-Gauss Gradient\n",
    "\n",
    "A variation of Gauss's Theorem\n",
    "\n",
    "$$ (\\nabla T)_P = \\frac{1}{V_P} \\sum T_{fi} \\hat{n} A_{fi} $$\n",
    "\n",
    "But calculating $T_{Ni}$ yields errors. You can linear interpolate between zone-centered values, which yields a skewness error if the zone is badly distorted. Basically, you linearly interpolate but the edge-centered value is far from where you're actually calculating. You can also average between the node values, but this is more expensive."
   ]
  },
  {
   "cell_type": "markdown",
   "metadata": {},
   "source": []
  }
 ],
 "metadata": {
  "language_info": {
   "name": "python"
  }
 },
 "nbformat": 4,
 "nbformat_minor": 2
}
