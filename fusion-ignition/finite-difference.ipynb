{
 "cells": [
  {
   "cell_type": "markdown",
   "metadata": {},
   "source": [
    "# Finite Difference Methods\n",
    "\n",
    "(Richtmyer and Morton) Dense book but I like it."
   ]
  },
  {
   "cell_type": "markdown",
   "metadata": {},
   "source": [
    "### IVP problems\n",
    "\n",
    "So for various branches of continuum physics such as heat flow, diffusion, fluid dynamics, magneto-fluid dynamics, acoustics, electromagnetism, wave mechanics, radiation transfer, neutron transfer and elastic vibrations. \n",
    "\n",
    "The equations of the nature such that if a state of the physical system is arbitrarily specified at $t = t_0$, then a solution exists for $t \\geq t_0$ and is uniquely by the equations with some boundary conditions. A steady state isn't guaranteed.\n",
    "\n",
    "Finite-difference methods approximate a numerical solution rather than giving an analytical solution (exact and derived by hand). Analytical solutions are not often found or difficult to work with. they are what we use in computers since computers can only handle discrete values. "
   ]
  },
  {
   "cell_type": "markdown",
   "metadata": {},
   "source": [
    "### Heat Flow Problem\n",
    "\n",
    "Imagine having a thin insulated rod such that heat can transfer from one large slab of uniform temperature to another slab.\n",
    "\n",
    "$$ a \\frac{\\partial u}{\\partial t} = \\frac{\\partial}{\\partial x} K \\frac{\\partial u}{\\partial x} $$"
   ]
  },
  {
   "cell_type": "code",
   "execution_count": null,
   "metadata": {},
   "outputs": [],
   "source": []
  }
 ],
 "metadata": {
  "language_info": {
   "name": "python"
  }
 },
 "nbformat": 4,
 "nbformat_minor": 2
}
