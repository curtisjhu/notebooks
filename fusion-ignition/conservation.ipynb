{
 "cells": [
  {
   "cell_type": "markdown",
   "metadata": {},
   "source": [
    "# Conservation Laws\n",
    "\n",
    "Referencing Randall J. LeVeque's \"Numerical Methods for Conservation Laws\""
   ]
  },
  {
   "cell_type": "markdown",
   "metadata": {},
   "source": [
    "## Preliminaries\n",
    "\n",
    "The basics for one dimensional conservation through time is as follows:\n",
    "\n",
    "$\\frac{\\partial }{\\partial t} u(x,t) + \\frac{\\partial }{\\partial x} f(u(x,t)) = 0$\n",
    "\n",
    "Where:\n",
    "- u(x,t) is a state variable of conserved quantities such as mass, momentum, and energy in a fluid dynamics problem\n",
    "- f is a flux function\n",
    "\n",
    "Intuitively:\n",
    "\n",
    "$$ \\text{ change in stuff over time } = \\text{ stuff going in and out of the encapsulated volume}$$\n",
    "\n",
    "Basically, this analogous to the Continuity Equation in electrodynamics where charge is conserved:\n",
    "\n",
    "$$ \\frac{\\partial \\rho}{\\partial t} + \\nabla \\cdot \\vec{J} = 0 \\quad \\text{ change of charge in time = - divergence in small spot}$$\n",
    "\n",
    "\n",
    "By conservation we can say that \n",
    "\n",
    "$$ \\int_{-\\infty}^{\\infty} u(x,t) dx = K, \\quad \\text{for any t}$$\n",
    "\n",
    "\n",
    "Few exact solutions are known for these PDEs but a lot is known about the mathematical structure and their solutions. While we often can't find analytical solutions, we use numerical methods to approximate the solution."
   ]
  },
  {
   "cell_type": "markdown",
   "metadata": {},
   "source": [
    "### Euler Equations\n",
    "\n",
    "The theory for conservation laws were heavily first examined under gas dynamics. Hence, they are fundamental and will be referenced as a base example later on.\n",
    "\n",
    "$$ \\frac{\\partial}{\\partial t} \\begin{bmatrix} \\rho \\\\ \\rho v \\\\ E \\end{bmatrix} + \\frac{\\partial}{\\partial x} \\begin{bmatrix} \\rho v \\\\ \\rho v^2 + p \\\\ v(E + p) \\end{bmatrix} = 0$$\n",
    "\n",
    "Obviously using vectors of the state variables. $\\rho$ is the density, $\\rho v$ is the momentum, $E$ is energy, $p$ is pressure. The equations on the right are the equations of state"
   ]
  },
  {
   "cell_type": "markdown",
   "metadata": {},
   "source": [
    "\n",
    "### Difficulties\n",
    "\n",
    "Discontinous solutions do not satisfy the PDE and so there won't be an analytical solution.  However, we can derive integral forms that are valid for these discontinuous solutions. The problem is that integral is often very difficult to work with, especially when we discretize things. We can introduce \"weak form.\" Finte-difference methods also yields challenges to the resolution. Especially when representing jump discontinuities. \n",
    "\n"
   ]
  },
  {
   "cell_type": "markdown",
   "metadata": {},
   "source": [
    "# Derivations of Conservation Laws\n",
    "\n"
   ]
  },
  {
   "cell_type": "markdown",
   "metadata": {},
   "source": [
    "Let's start with the conservation of mass in one dimension.\n",
    "\n",
    "$$ \\text{mass in } [x_1, x_2] \\text{ at time } t = \\int_{x_1}^{x_2} \\rho(x, t) dx$$\n",
    "\n",
    "$$ \\text{mass flux at } (x, t) = \\rho(x, t) v(x,t) $$\n",
    "\n",
    "Then a version of our conservation law above is then:\n",
    "\n",
    "$$\\text{change in mass over time} = \\text{flux difference at the endcaps} $$\n",
    "\n",
    "$$\\frac{d}{dt} \\int_{x_1}^{x_2} \\rho(x, t) dx = \\rho(x_1,t) v(x_1,t) - \\rho(x_2, t) v(x_2,t)$$\n",
    "\n"
   ]
  },
  {
   "cell_type": "markdown",
   "metadata": {},
   "source": [
    "Another version of our conservation law is:\n",
    "\n",
    "$$ \\text{current mass} = \\text{initial mass} + \\text{change in mass due to net flux over each endcap over time} $$\n",
    "\n",
    "$$ \\int_{x_1}^{x_2} \\rho(x, t_2) dx = \\int_{x_1}^{x_2} \\rho(x, t_1) dx + \\int_{t_1}^{t_2} \\rho(x_1, t) v(x_1, t) dt - \\int_{t_1}^{t_2} \\rho(x_2, t) v(x_2, t) dt$$\n",
    "\n",
    "$$ \\int_{x_1}^{x_2} \\rho(x, t_2) dx - \\int_{x_1}^{x_2} \\rho(x, t_1) dx =  \\int_{t_1}^{t_2} \\rho(x_1, t) v(x_1, t) dt - \\int_{t_1}^{t_2} \\rho(x_2, t) v(x_2, t) dt$$\n"
   ]
  },
  {
   "cell_type": "markdown",
   "metadata": {},
   "source": [
    "Let's start deriving...\n",
    "\n",
    "$$ \\rho(x, t_2) - \\rho(x, t_1) = \\int_{t_1}^{t_2} \\frac{\\partial}{\\partial t} \\rho(x, t) dt \\quad \\text{by FTC}$$\n",
    "\n",
    "$$ \\rho(x_2, t) v(x_2, t) - \\rho(x_1, t) v(x_1, t) = \\int_{x_1}^{x_2} \\frac{\\partial}{\\partial x} \\rho(x, t) v(x, t) dx \\quad \\text{by FTC}$$\n",
    "\n",
    "Combine these two FTC and the conservation of mass to get the variation:\n",
    "\n",
    "$$ \\int_{t_1}^{t_2} \\int_{x_1}^{x_2} \\left( \\frac{\\partial}{\\partial t} \\rho(x, t) + \\frac{\\partial}{\\partial x} \\left(\\rho(x, t) v(x, t) \\right) \\right) dx dt = 0 $$\n",
    "\n",
    "iBecause it holds for any section $[x_1, x_2]$ over any time interval $[t_1, t_2]$ we can conclude with the desired form:\n",
    "\n",
    "$$ \\rho_t + (\\rho v)_x = 0$$"
   ]
  },
  {
   "cell_type": "markdown",
   "metadata": {},
   "source": [
    "### Linear advection equation\n",
    "\n",
    "We are given that the conservation of mass is:\n",
    "\n",
    "$$ \\rho_t + (\\rho v)_x = 0$$\n",
    "\n",
    "Let's give the special case where $v = \\alpha$, a constant.\n",
    "\n",
    "$$ \\rho_t + \\alpha \\rho_x = 0$$\n",
    "\n",
    "Say $\\rho(x,0) = \\rho_0(x)$ for $-\\infty < x < \\infty $\n",
    "\n",
    "We can verify that a simple solution by plugging in is:\n",
    "\n",
    "$$ \\rho(x, t) = \\rho_0(x - \\alpha t) $$"
   ]
  },
  {
   "cell_type": "markdown",
   "metadata": {},
   "source": [
    "### Advection-Diffusion Equation (Convection Diffusion Equation)\n",
    "\n",
    "Many times fluid doesn't move at a constant velocity, which we think of the macroscopic average velocity of the molecules. Individual molecules travel with random directions and speeds distributed about this average. Modules undergo this brownian motion away from regions of high concetration towards regions of lower concetration. We can apply this \"diffusion\" from higher to lower concentration.\n",
    "\n",
    "So in a linear tube, imagine there is advective flux, which is the flux given by constant flow of fluid regardless of density so think of the fluid as incompressible and laminar. Then add diffusive flux which is proportional to the gradient of concetration. Think of this as flow from the squeezing and pulling of the fluid.\n",
    "\n",
    "$$ \\text{diffusive flux} = - D \\rho_x $$\n",
    "\n",
    "We then get the general flux:\n",
    "\n",
    "$$ f(\\rho, \\rho_x) = a \\rho - D \\rho_x $$\n",
    "\n",
    "$$ \\rho_t + ( a \\rho - D \\rho_x)_x = 0 $$\n",
    "\n",
    "$$ \\rho_t + a \\rho_x = D \\rho_{xx} $$"
   ]
  },
  {
   "cell_type": "markdown",
   "metadata": {},
   "source": [
    "### Euler equations of gas dynamics\n",
    "\n",
    "$$\n",
    "\\begin{cases}\n",
    "    \\rho_t + (\\rho v)_x = 0 \\quad \\text{conservation of mass} \\\\\n",
    "    (\\rho v)_t + (\\rho v^2 + \\rho)_x = 0 \\quad \\text{conservation of momentum} \\\\\n",
    "    E_t + (v(E+p))_x = 0 \\quad \\text{conservation of energy}\n",
    "\\end{cases}\n",
    "$$\n",
    "\n",
    "We can vectorize this:\n",
    "\n",
    "$$ u = \\begin{bmatrix} \\rho \\\\ \\rho v \\\\ E \\end{bmatrix} $$\n",
    "\n",
    "$$ u_t + f(u)_x = 0"
   ]
  },
  {
   "cell_type": "markdown",
   "metadata": {},
   "source": [
    "#### Variable coefficient advection equation\n",
    "\n",
    "$$ u_t + (a(x) u)_x = 0 $$\n",
    "\n",
    "Where $a(x)$ is a smooth function\n",
    "\n",
    "$$ u_t + a(x) u_x + a'(x) u = 0 $$\n",
    "\n",
    "$$ \\left( \\frac{\\partial}{\\partial t} + a(x) \\frac{\\partial}{\\partial x} \\right) u(x,t) = - a'(x) u(x,t) $$\n",
    "\n"
   ]
  },
  {
   "cell_type": "markdown",
   "metadata": {},
   "source": [
    "#### Ex 3.1\n",
    "\n",
    "Let $f(u) = au$, with a constant, and let $u_0(x)$ be any integrable function. Verify that the function $u(x, t) = u_0(x -at)$ satisfies the integral form for any $x_1, x_2, t_1, t_2$.\n",
    "\n",
    "Answer:\n",
    "\n",
    "$$ \\int_{x_1}^{x_2} u(x, t_2) dx = \\int_{x_1}^{x_2} u(x, t_1) dx + \\int_{t_1}^{t_2} f(u(x_1, t)) dt - \\int_{t_1}^{t_2} f(u(x_2,t)) dt \\quad \\text{integral form}$$\n",
    "\n",
    "$$ \\int_{x_1}^{x_2} u_0(x - a t_2) - u_0(x - a t_1) dx = \\int_{t_1}^{t_2} a u_0(x_1 - a t) - a u_0(x_2 - a t) dt $$\n",
    "\n",
    "$$ \\int_{x_1}^{x_2} u_0(x - a t_2) dx - \\int_{x_1}^{x_2} u_0(x - a t_1) dx = - \\int_{t_1}^{t_2} u_0(x_1 - a t) (-a) dt + \\int_{t_1}^{t_2} u_0(x_2 - a t) (-a) dt $$\n",
    "\n",
    "$$ w = x - a t_2, v = x_1 - at, ... $$\n",
    "\n",
    "$$ \\int_{x_1 - a t_2}^{x_2 - a t_2} u_0(n) dn - \\int_{x_1 - a t_1}^{x_2 - at_1} u_0(m) dm = - \\int_{x_1 - a t_1}^{x_1 - a t_2} u_0(v) dv + \\int_{x_2 - a t_1}^{ x_2 - a t_2} u_0(w) dw $$\n",
    "\n",
    "$$ \\text{QED.} $$"
   ]
  },
  {
   "cell_type": "markdown",
   "metadata": {},
   "source": [
    "### Ex 3.2\n",
    "\n",
    "Show that the vanishing viscosity solution $\\lim_{\\epsilon \\rightarrow 0} {u^\\epsilon(x, t)}$ is equal to $u_0(x-at)$\n",
    "\n",
    "Answer:\n",
    "\n",
    "So the idea is to approximate the nonsmooth function $u_0(x)$ with a sequence of smooth functions $u_0^\\epsilon(x)$ with the condition:\n",
    "\n",
    "$$ || u_0 - u_0^\\epsilon ||_1 < \\epsilon $$\n",
    "\n",
    "We define norm as follows: $||v||_1 = \\int_{-\\infty}^{\\infty} |v(x)| dx$ \n",
    "\n",
    "So we are setting $\\epsilon$ greater than this \"error function\" that deviates from the original function.\n",
    "\n",
    "$$ \\lim_{\\epsilon \\rightarrow 0} {u_0^\\epsilon(x, t)} = $$"
   ]
  },
  {
   "cell_type": "markdown",
   "metadata": {},
   "source": [
    "## Burger's Equation\n",
    "\n",
    "Assume $f(u)$ is a nonlinear function of $u$. Also assume that $f(u)$ is concave or $f''(u) > 0, \\forall u$\n",
    "\n",
    "$$ u_t + f(u)_x = 0 $$\n",
    "\n",
    "A famous case of this is **Burgers' Equation**:\n",
    "\n",
    "$$ f(u) = \\frac{1}{2} u^2$$\n",
    "\n",
    "$$ u_t + u u_x = 0 $$\n",
    "\n",
    "$$ u_t + u u_x = \\epsilon u u_{xx} \\quad \\text{Add viscous term from before} $$\n",
    "\n",
    "\n",
    "..... skip skip\n",
    "\n"
   ]
  },
  {
   "cell_type": "markdown",
   "metadata": {},
   "source": [
    "## Traffic Flow\n",
    "\n",
    "Let's look at the flow of cars on a highway. Let $\\rho$ denote the density of cars and $u$ the velocity, where $0 \\leq \\rho \\leq \\rho_{max}$ and $\\rho_{max}$ is like bumper to bumper. Flux of cars is of course $\\rho v$\n",
    "\n",
    "$$ \\rho_t + (\\rho u)_x = 0 $$\n",
    "\n"
   ]
  }
 ],
 "metadata": {
  "language_info": {
   "name": "python"
  }
 },
 "nbformat": 4,
 "nbformat_minor": 2
}
