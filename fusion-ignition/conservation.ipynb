{
 "cells": [
  {
   "cell_type": "markdown",
   "metadata": {},
   "source": [
    "# Conservation Laws\n",
    "\n",
    "Referencing Randall J. LeVeque's \"Numerical Methods for Conservation Laws\""
   ]
  },
  {
   "cell_type": "markdown",
   "metadata": {},
   "source": [
    "## Preliminaries\n",
    "\n",
    "The basics for one dimensional conservation through time is as follows:\n",
    "\n",
    "$\\frac{\\partial }{\\partial t} u(x,t) + \\frac{\\partial }{\\partial x} f(u(x,t)) = 0$\n",
    "\n",
    "Where:\n",
    "- u(x,t) is a state variable of conserved quantities such as mass, momentum, and energy in a fluid dynamics problem\n",
    "- f is a flux function\n",
    "\n",
    "Intuitively:\n",
    "\n",
    "$$ \\text{ change in stuff over time } = \\text{ stuff going in and out of the encapsulated volume}$$\n",
    "\n",
    "Basically, this analogous to the Continuity Equation in electrodynamics where charge is conserved:\n",
    "\n",
    "$$ \\frac{\\partial \\rho}{\\partial t} + \\nabla \\cdot \\vec{J} = 0 \\quad \\text{ change of charge in time = - divergence in small spot}$$\n",
    "\n",
    "\n",
    "By conservation we can say that \n",
    "\n",
    "$$ \\int_{-\\infty}^{\\infty} u(x,t) dx = K, \\quad \\text{for any t}$$\n",
    "\n",
    "\n",
    "Few exact solutions are known for these PDEs but a lot is known about the mathematical structure and their solutions. While we often can't find analytical solutions, we use numerical methods to approximate the solution."
   ]
  },
  {
   "cell_type": "markdown",
   "metadata": {},
   "source": [
    "### Euler Equations\n",
    "\n",
    "The theory for conservation laws were heavily first examined under gas dynamics. Hence, they are fundamental and will be referenced as a base example later on.\n",
    "\n",
    "$$ \\frac{\\partial}{\\partial t} \\begin{bmatrix} \\rho \\\\ \\rho v \\\\ E \\end{bmatrix} + \\frac{\\partial}{\\partial x} \\begin{bmatrix} \\rho v \\\\ \\rho v^2 + p \\\\ v(E + p) \\end{bmatrix} = 0$$\n",
    "\n",
    "Obviously using vectors of the state variables. $\\rho$ is the density, $\\rho v$ is the momentum, $E$ is energy, $p$ is pressure. The equations on the right are the equations of state\n",
    "\n",
    "\n",
    "!!!!!!!!!!!!!!!!!!!!!!!\n",
    "More formally the euler equations for incompressible fluid (incompressible makes our lives easy) are:\n",
    "$$\n",
    "\\begin{cases} \n",
    "    \\nabla \\cdot u = 0\\\\\n",
    "\\end{cases}\n",
    "$$"
   ]
  },
  {
   "cell_type": "markdown",
   "metadata": {},
   "source": [
    "### Shock Tube Problem\n",
    "\n",
    "A standard base test"
   ]
  },
  {
   "cell_type": "code",
   "execution_count": null,
   "metadata": {},
   "outputs": [],
   "source": []
  },
  {
   "cell_type": "markdown",
   "metadata": {},
   "source": [
    "\n",
    "### Difficulties\n",
    "\n",
    "Discontinous solutions do not satisfy the PDE and so there won't be an analytical solution.  However, we can derive integral forms that are valid for these discontinuous solutions. The problem is that integral is often very difficult to work with, especially when we discretize things. We can introduce \"weak form\"\n",
    "\n"
   ]
  },
  {
   "cell_type": "markdown",
   "metadata": {},
   "source": [
    "# Derivations of Conservation Laws\n",
    "\n"
   ]
  },
  {
   "cell_type": "markdown",
   "metadata": {},
   "source": []
  }
 ],
 "metadata": {
  "language_info": {
   "name": "python"
  }
 },
 "nbformat": 4,
 "nbformat_minor": 2
}
