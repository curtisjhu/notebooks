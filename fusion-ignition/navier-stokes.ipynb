{
 "cells": [
  {
   "cell_type": "markdown",
   "metadata": {},
   "source": [
    "# Navier-Stokes Equations\n",
    "\n",
    "(Jeff Colvin and Jon Larsen)"
   ]
  },
  {
   "cell_type": "markdown",
   "metadata": {},
   "source": [
    "## Derivation\n",
    "\n",
    "Imagine we have cylindrical tube of continuum fluid such that it is non-viscous and incompressible.\n",
    "\n",
    "We have the following fluxes:\n",
    "\n",
    "$$ \\text{flux of mass} = \\rho u, \\quad \\text{flux of momentum} = \\rho u^2, \\quad \\text{flux of energy} = \\rho u \\epsilon $$\n",
    "\n",
    "where $\\epsilon$ is the energy per unit mass\n",
    "\n",
    "We also need an equation of state (EOS) that relates pressure, density and specific energy without introducing new variables and is derived from thermodynamic relations."
   ]
  },
  {
   "cell_type": "markdown",
   "metadata": {},
   "source": [
    "##### Conservation of Mass\n",
    "\n",
    "$$ \\text{difference in mass over time} = \\text{flux difference at end caps} $$\n",
    "\n",
    "$$ \\rho(x, t_2) A \\Delta x - \\rho(x, t_1) A \\Delta x = \\rho (x_1, t) u(x_1, t) A \\Delta t - \\rho(x_2, t) u(x_2, t) A \\Delta t $$\n",
    "\n",
    "$$ \\rho(x, t_2) A \\Delta x - \\rho(x, t_1) A \\Delta x = \\rho (x_1, t) u(x_1,t) A \\Delta t - \\rho(x_2, t) u(x_2, t) A \\Delta t $$\n",
    "\n",
    "$$ \\frac{\\rho(x, t_2) - \\rho(x, t_1)}{\\Delta t} = -\\frac{\\rho(x_2, t) u(x_2, t) -\\rho (x_1, t) u(x_1,t) }{ \\Delta x } $$\n",
    "\n",
    "$$ \\frac{\\partial \\rho}{\\partial t} = - \\frac{\\partial (\\rho u)}{\\partial x} $$"
   ]
  },
  {
   "cell_type": "markdown",
   "metadata": {},
   "source": [
    "##### Conservation of Momentum\n",
    "\n",
    "\n",
    "$$ \\text{difference in momentum over time} = \\text{flux difference at end caps} $$\n",
    "\n",
    "$$ \\rho(x,t_2) u(x, t_2) A \\Delta x - \\rho(x, t_1) u(x, t_1) A \\Delta x = \\rho(x_1, t) u(x_1, t)^2 A \\Delta t - \\rho(x_2, t) u(x_2, t)^2 A \\Delta t $$\n",
    "\n",
    "\n",
    "$$ \\frac{\\partial \\rho u}{\\partial t} = - \\frac{\\partial (\\rho u^2)}{\\partial x} $$\n",
    "\n",
    "Add the momentum exerted on the overall section\n",
    "\n",
    "$$ \\frac{\\partial P}{\\partial x} = \\frac{1}{A} \\frac{\\partial F}{\\partial x} = \\frac{1}{A} \\frac{\\partial}{\\partial x} \\frac{\\partial}{\\partial t} m = \\frac{\\partial}{\\partial x} \\frac{\\partial}{\\partial t} (\\rho u) $$\n",
    "\n",
    "\n",
    "$$ \\frac{\\partial \\rho u}{\\partial t} + \\frac{\\partial P}{\\partial x} = - \\frac{\\partial (\\rho u^2)}{\\partial x} $$\n"
   ]
  },
  {
   "cell_type": "markdown",
   "metadata": {},
   "source": [
    "##### Conservation of Energy\n",
    "\n",
    "$$ \\text{difference in energy over time} = \\text{flux difference at end caps} $$\n",
    "\n",
    "\n",
    "$$ \\frac{\\partial \\rho \\epsilon}{\\partial t} = - \\frac{\\partial (\\rho u \\epsilon)}{\\partial x} $$\n",
    "\n",
    "Add the work done per unit time by forces acting on the overall section. Since this is $W/t = Fv$\n",
    "\n",
    "$$ \\frac{\\partial \\rho \\epsilon}{\\partial t} = - \\frac{\\partial (\\rho u \\epsilon)}{\\partial x} - \\frac{\\partial (P u)}{\\partial x}$$"
   ]
  },
  {
   "cell_type": "markdown",
   "metadata": {},
   "source": [
    "##### Navier Stokes Equations\n",
    "\n",
    "$$ \\frac{\\partial \\rho}{\\partial t} + \\nabla \\cdot (\\rho \\textbf{u}) = 0 \\quad \\text{conservation of mass} $$ \n",
    "\n",
    "$$ \\frac{\\partial (\\rho \\textbf{u})}{\\partial t} + \\nabla \\cdot (\\rho \\textbf{u} \\textbf{u}) + \\nabla P = 0 \\quad \\text{conservation of momentum} $$ \n",
    "\n",
    "$$ \\frac{\\partial \\rho \\epsilon}{\\partial t} + \\nabla \\cdot (\\rho \\textbf{u} \\epsilon) + \\nabla (P \\textbf{u}) = 0 \\quad \\text{conservation of energy} $$ "
   ]
  },
  {
   "cell_type": "code",
   "execution_count": null,
   "metadata": {},
   "outputs": [],
   "source": []
  }
 ],
 "metadata": {
  "language_info": {
   "name": "python"
  }
 },
 "nbformat": 4,
 "nbformat_minor": 2
}
