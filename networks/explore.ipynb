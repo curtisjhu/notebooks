{
 "cells": [
  {
   "cell_type": "markdown",
   "metadata": {},
   "source": [
    "# Explorations of algorithms\n",
    "\n",
    "Expanding dunbar circles. Algorithms for resticting the expansion"
   ]
  },
  {
   "cell_type": "markdown",
   "metadata": {},
   "source": [
    "## bubbles\n",
    "\n",
    "https://cns.gatech.edu/~predrag//courses/PHYS-4421-04/lautrup/7.7/surface.pdf\n",
    "\n",
    "$$ F = 4 \\gamma / r$$\n",
    "Proof is elusive to me right now\n"
   ]
  },
  {
   "cell_type": "code",
   "execution_count": null,
   "metadata": {},
   "outputs": [],
   "source": []
  }
 ],
 "metadata": {
  "language_info": {
   "name": "python"
  }
 },
 "nbformat": 4,
 "nbformat_minor": 2
}
