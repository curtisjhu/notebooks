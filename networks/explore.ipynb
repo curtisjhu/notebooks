{
 "cells": [
  {
   "cell_type": "markdown",
   "metadata": {},
   "source": [
    "# Explorations of algorithms\n",
    "\n",
    "Expanding dunbar circles. Algorithms for resticting the expansion"
   ]
  },
  {
   "cell_type": "markdown",
   "metadata": {},
   "source": [
    "## Bubbles\n",
    "\n",
    "By basic physics, we know it reaches a state of no net force at the boundary.\n",
    "\n",
    "$$ F_{outer} + F_{Boundary} = F_{inner} $$\n",
    "\n",
    "\n",
    "https://web.mit.edu/1.63/www/Lec-notes/Surfacetension/Lecture1.pdf\n",
    "\n",
    "Surface tension has the units Force/Length or Energy/Area. Think of it as an extension of Young's modulus or elastic tension in a rope spread uniformly over a sphere.\n",
    "\n",
    "https://cns.gatech.edu/~predrag//courses/PHYS-4421-04/lautrup/7.7/surface.pdf\n",
    "\n",
    "$$ dW_1 = \\sigma dA $$\n",
    "$$ dW_2 = -\\Delta p dV $$\n",
    "- where $\\sigma = F/L = E/A$ is energy density or surface tension.\n",
    "\n",
    "$$ dW_1 + dW_2 = 0 $$\n",
    "\n",
    "which gives us\n",
    "\n",
    "$$ \\Delta p = \\frac{2 \\sigma}{r} $$\n",
    "\n",
    "\n",
    "\n",
    "\n"
   ]
  },
  {
   "cell_type": "markdown",
   "metadata": {},
   "source": [
    "### Network science\n",
    "\n",
    "Say maybe pressure is defined as. "
   ]
  },
  {
   "cell_type": "markdown",
   "metadata": {},
   "source": [
    "### Cheerios effect"
   ]
  },
  {
   "cell_type": "markdown",
   "metadata": {},
   "source": [
    "Maybe can model dynamic networks like cheerios."
   ]
  },
  {
   "cell_type": "code",
   "execution_count": null,
   "metadata": {},
   "outputs": [],
   "source": []
  }
 ],
 "metadata": {
  "language_info": {
   "name": "python"
  }
 },
 "nbformat": 4,
 "nbformat_minor": 2
}
