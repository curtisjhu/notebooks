{
 "cells": [
  {
   "cell_type": "code",
   "execution_count": 2,
   "id": "cf78fc5c",
   "metadata": {},
   "outputs": [
    {
     "name": "stdout",
     "output_type": "stream",
     "text": [
      "Collecting datascience\n",
      "  Using cached datascience-0.17.6-py3-none-any.whl.metadata (688 bytes)\n",
      "Collecting folium>=0.9.1 (from datascience)\n",
      "  Using cached folium-0.17.0-py2.py3-none-any.whl.metadata (3.8 kB)\n",
      "Requirement already satisfied: setuptools in /Users/curtisjhu/miniconda3/envs/networks/lib/python3.10/site-packages (from datascience) (72.1.0)\n",
      "Requirement already satisfied: matplotlib>=3.0.0 in /Users/curtisjhu/miniconda3/envs/networks/lib/python3.10/site-packages (from datascience) (3.8.4)\n",
      "Collecting pandas (from datascience)\n",
      "  Using cached pandas-2.2.2-cp310-cp310-macosx_11_0_arm64.whl.metadata (19 kB)\n",
      "Requirement already satisfied: scipy in /Users/curtisjhu/miniconda3/envs/networks/lib/python3.10/site-packages (from datascience) (1.13.1)\n",
      "Requirement already satisfied: numpy in /Users/curtisjhu/miniconda3/envs/networks/lib/python3.10/site-packages (from datascience) (1.26.4)\n",
      "Requirement already satisfied: ipython in /Users/curtisjhu/miniconda3/envs/networks/lib/python3.10/site-packages (from datascience) (8.26.0)\n",
      "Requirement already satisfied: plotly in /Users/curtisjhu/miniconda3/envs/networks/lib/python3.10/site-packages (from datascience) (5.23.0)\n",
      "Collecting branca (from datascience)\n",
      "  Using cached branca-0.7.2-py3-none-any.whl.metadata (1.5 kB)\n",
      "Collecting jinja2>=2.9 (from folium>=0.9.1->datascience)\n",
      "  Using cached jinja2-3.1.4-py3-none-any.whl.metadata (2.6 kB)\n",
      "Requirement already satisfied: requests in /Users/curtisjhu/miniconda3/envs/networks/lib/python3.10/site-packages (from folium>=0.9.1->datascience) (2.32.3)\n",
      "Requirement already satisfied: xyzservices in /Users/curtisjhu/miniconda3/envs/networks/lib/python3.10/site-packages (from folium>=0.9.1->datascience) (2024.6.0)\n",
      "Requirement already satisfied: contourpy>=1.0.1 in /Users/curtisjhu/miniconda3/envs/networks/lib/python3.10/site-packages (from matplotlib>=3.0.0->datascience) (1.2.0)\n",
      "Requirement already satisfied: cycler>=0.10 in /Users/curtisjhu/miniconda3/envs/networks/lib/python3.10/site-packages (from matplotlib>=3.0.0->datascience) (0.11.0)\n",
      "Requirement already satisfied: fonttools>=4.22.0 in /Users/curtisjhu/miniconda3/envs/networks/lib/python3.10/site-packages (from matplotlib>=3.0.0->datascience) (4.51.0)\n",
      "Requirement already satisfied: kiwisolver>=1.3.1 in /Users/curtisjhu/miniconda3/envs/networks/lib/python3.10/site-packages (from matplotlib>=3.0.0->datascience) (1.4.4)\n",
      "Requirement already satisfied: packaging>=20.0 in /Users/curtisjhu/miniconda3/envs/networks/lib/python3.10/site-packages (from matplotlib>=3.0.0->datascience) (24.1)\n",
      "Requirement already satisfied: pillow>=8 in /Users/curtisjhu/miniconda3/envs/networks/lib/python3.10/site-packages (from matplotlib>=3.0.0->datascience) (10.4.0)\n",
      "Requirement already satisfied: pyparsing>=2.3.1 in /Users/curtisjhu/miniconda3/envs/networks/lib/python3.10/site-packages (from matplotlib>=3.0.0->datascience) (3.0.9)\n",
      "Requirement already satisfied: python-dateutil>=2.7 in /Users/curtisjhu/miniconda3/envs/networks/lib/python3.10/site-packages (from matplotlib>=3.0.0->datascience) (2.9.0.post0)\n",
      "Requirement already satisfied: decorator in /Users/curtisjhu/miniconda3/envs/networks/lib/python3.10/site-packages (from ipython->datascience) (5.1.1)\n",
      "Requirement already satisfied: jedi>=0.16 in /Users/curtisjhu/miniconda3/envs/networks/lib/python3.10/site-packages (from ipython->datascience) (0.19.1)\n",
      "Requirement already satisfied: matplotlib-inline in /Users/curtisjhu/miniconda3/envs/networks/lib/python3.10/site-packages (from ipython->datascience) (0.1.7)\n",
      "Requirement already satisfied: prompt-toolkit<3.1.0,>=3.0.41 in /Users/curtisjhu/miniconda3/envs/networks/lib/python3.10/site-packages (from ipython->datascience) (3.0.47)\n",
      "Requirement already satisfied: pygments>=2.4.0 in /Users/curtisjhu/miniconda3/envs/networks/lib/python3.10/site-packages (from ipython->datascience) (2.18.0)\n",
      "Requirement already satisfied: stack-data in /Users/curtisjhu/miniconda3/envs/networks/lib/python3.10/site-packages (from ipython->datascience) (0.6.2)\n",
      "Requirement already satisfied: traitlets>=5.13.0 in /Users/curtisjhu/miniconda3/envs/networks/lib/python3.10/site-packages (from ipython->datascience) (5.14.3)\n",
      "Requirement already satisfied: exceptiongroup in /Users/curtisjhu/miniconda3/envs/networks/lib/python3.10/site-packages (from ipython->datascience) (1.2.2)\n",
      "Requirement already satisfied: typing-extensions>=4.6 in /Users/curtisjhu/miniconda3/envs/networks/lib/python3.10/site-packages (from ipython->datascience) (4.12.2)\n",
      "Requirement already satisfied: pexpect>4.3 in /Users/curtisjhu/miniconda3/envs/networks/lib/python3.10/site-packages (from ipython->datascience) (4.9.0)\n",
      "Requirement already satisfied: pytz>=2020.1 in /Users/curtisjhu/miniconda3/envs/networks/lib/python3.10/site-packages (from pandas->datascience) (2024.1)\n",
      "Requirement already satisfied: tzdata>=2022.7 in /Users/curtisjhu/miniconda3/envs/networks/lib/python3.10/site-packages (from pandas->datascience) (2024.1)\n",
      "Requirement already satisfied: tenacity>=6.2.0 in /Users/curtisjhu/miniconda3/envs/networks/lib/python3.10/site-packages (from plotly->datascience) (9.0.0)\n",
      "Requirement already satisfied: parso<0.9.0,>=0.8.3 in /Users/curtisjhu/miniconda3/envs/networks/lib/python3.10/site-packages (from jedi>=0.16->ipython->datascience) (0.8.4)\n",
      "Requirement already satisfied: MarkupSafe>=2.0 in /Users/curtisjhu/miniconda3/envs/networks/lib/python3.10/site-packages (from jinja2>=2.9->folium>=0.9.1->datascience) (2.1.5)\n",
      "Requirement already satisfied: ptyprocess>=0.5 in /Users/curtisjhu/miniconda3/envs/networks/lib/python3.10/site-packages (from pexpect>4.3->ipython->datascience) (0.7.0)\n",
      "Requirement already satisfied: wcwidth in /Users/curtisjhu/miniconda3/envs/networks/lib/python3.10/site-packages (from prompt-toolkit<3.1.0,>=3.0.41->ipython->datascience) (0.2.13)\n",
      "Requirement already satisfied: six>=1.5 in /Users/curtisjhu/miniconda3/envs/networks/lib/python3.10/site-packages (from python-dateutil>=2.7->matplotlib>=3.0.0->datascience) (1.16.0)\n",
      "Requirement already satisfied: charset-normalizer<4,>=2 in /Users/curtisjhu/miniconda3/envs/networks/lib/python3.10/site-packages (from requests->folium>=0.9.1->datascience) (3.3.2)\n",
      "Requirement already satisfied: idna<4,>=2.5 in /Users/curtisjhu/miniconda3/envs/networks/lib/python3.10/site-packages (from requests->folium>=0.9.1->datascience) (3.7)\n",
      "Requirement already satisfied: urllib3<3,>=1.21.1 in /Users/curtisjhu/miniconda3/envs/networks/lib/python3.10/site-packages (from requests->folium>=0.9.1->datascience) (2.2.2)\n",
      "Requirement already satisfied: certifi>=2017.4.17 in /Users/curtisjhu/miniconda3/envs/networks/lib/python3.10/site-packages (from requests->folium>=0.9.1->datascience) (2024.7.4)\n",
      "Requirement already satisfied: executing>=1.2.0 in /Users/curtisjhu/miniconda3/envs/networks/lib/python3.10/site-packages (from stack-data->ipython->datascience) (2.0.1)\n",
      "Requirement already satisfied: asttokens>=2.1.0 in /Users/curtisjhu/miniconda3/envs/networks/lib/python3.10/site-packages (from stack-data->ipython->datascience) (2.4.1)\n",
      "Requirement already satisfied: pure-eval in /Users/curtisjhu/miniconda3/envs/networks/lib/python3.10/site-packages (from stack-data->ipython->datascience) (0.2.3)\n",
      "Using cached datascience-0.17.6-py3-none-any.whl (732 kB)\n",
      "Using cached folium-0.17.0-py2.py3-none-any.whl (108 kB)\n",
      "Using cached branca-0.7.2-py3-none-any.whl (25 kB)\n",
      "Using cached pandas-2.2.2-cp310-cp310-macosx_11_0_arm64.whl (11.3 MB)\n",
      "Using cached jinja2-3.1.4-py3-none-any.whl (133 kB)\n",
      "Installing collected packages: jinja2, pandas, branca, folium, datascience\n",
      "Successfully installed branca-0.7.2 datascience-0.17.6 folium-0.17.0 jinja2-3.1.4 pandas-2.2.2\n"
     ]
    }
   ],
   "source": [
    "!pip install datascience"
   ]
  },
  {
   "cell_type": "code",
   "execution_count": 3,
   "id": "ee047eaa",
   "metadata": {},
   "outputs": [],
   "source": [
    "from IPython.core.display import HTML\n",
    "from datascience import *\n",
    "\n",
    "import matplotlib\n",
    "matplotlib.use('Agg')\n",
    "import matplotlib.pyplot as plt\n",
    "import numpy as np\n",
    "import os\n",
    "import networkx as nx\n",
    "plt.style.use('fivethirtyeight')\n",
    "\n",
    "%matplotlib inline"
   ]
  },
  {
   "cell_type": "markdown",
   "id": "e5fe4fb9",
   "metadata": {
    "collapsed": true
   },
   "source": [
    "# Lab 1: Working with complete network data"
   ]
  },
  {
   "cell_type": "markdown",
   "id": "11efa39c",
   "metadata": {},
   "source": [
    "Today, we will work with complete network data, meaning data on an entire population of individuals and all of the connections between them. I'll refer to this as the *complete network perspective*. The complete network perspective can be very useful, since it enables us to study how the actual structure of the network can affect important outcomes like the spread of a disease, information about job openings, and even social status.\n",
    "\n",
    "For almost any social network we study, we are interested in understanding the structure of the complete network. Unfortunately, it is typically extremely difficult to obtain complete network data. Most studies that have done so have put a tremendous amount of time, effort and resources into data collection.  Any time we analyze data---including complete network data---we have to bear in mind the strengths and limitations of the way that the data were collected."
   ]
  },
  {
   "cell_type": "markdown",
   "id": "eb955cc3",
   "metadata": {},
   "source": [
    "### The Add Health Study"
   ]
  },
  {
   "cell_type": "markdown",
   "id": "1e1b2482",
   "metadata": {},
   "source": [
    "For our first complete network dataset, we're going to be looking at data from a study called [Add Health](http://www.cpc.unc.edu/projects/addhealth). Here is a description of the study, taken from the front page of the [Add Health website](http://www.cpc.unc.edu/projects/addhealth):\n",
    "\n",
    "<blockquote>\n",
    "The National Longitudinal Study of Adolescent to Adult Health (Add Health) is a longitudinal study of a nationally representative sample of adolescents in grades 7-12 in the United States during the 1994-95 school year. The Add Health cohort has been followed into young adulthood with four in-home interviews, the most recent in 2008, when the sample was aged 24-32. Add Health is re-interviewing cohort members in a Wave V follow-up from 2016-2018 to collect social, environmental, behavioral, and biological data with which to track the emergence of chronic disease as the cohort moves through their fourth decade of life.\n",
    "<BR><BR>\n",
    "Add Health combines longitudinal survey data on respondents’ social, economic, psychological and physical well-being with contextual data on the family, neighborhood, community, school, friendships, peer groups, and romantic relationships, providing unique opportunities to study how social environments and behaviors in adolescence are linked to health and achievement outcomes in young adulthood. The fourth wave of interviews expanded the collection of biological data in Add Health to understand the social, behavioral, and biological linkages in health trajectories as the Add Health cohort ages through adulthood, and the fifth wave of data collection continues this biological data expansion.\n",
    "</blockquote>"
   ]
  },
  {
   "cell_type": "markdown",
   "id": "66f3e8f9",
   "metadata": {},
   "source": [
    "Here are some terms from that description that might not be familiar to you:\n",
    "\n",
    "* `longitudinal` - logitudinal studies follow people over time, instead of just interviewing people at one point in time\n",
    "* `cohort` - a group of people that is followed over time; for Add Health, the cohort is the group of people who were interviewed as 7-12th graders in 1994-95.\n",
    "* `nationally representative` - the participants in the study were chosen in a principled way that enables researchers to make inferences about the US population from the small number of people they interview"
   ]
  },
  {
   "cell_type": "markdown",
   "id": "b3dbe1fc",
   "metadata": {},
   "source": [
    "Add Health interviewed adolescents in many different schools that were randomly sampled from all over the US. We're going to work with the data from the friendship network of students in just one of those schools today."
   ]
  },
  {
   "cell_type": "markdown",
   "id": "08ecb6e9",
   "metadata": {},
   "source": [
    "Now that we have some background, we'll need to talk a bit about some of the technical details that go into working with complete network data."
   ]
  },
  {
   "cell_type": "markdown",
   "id": "9d20427c",
   "metadata": {},
   "source": [
    "# Representing a network in a computer"
   ]
  },
  {
   "cell_type": "markdown",
   "id": "1da569c0",
   "metadata": {
    "deletable": false,
    "editable": false
   },
   "source": [
    "<!-- BEGIN QUESTION -->\n",
    "\n",
    "## Question 1:\n",
    "How can we turn a network -- which we have been thinking of as an abstract concept -- into something concrete that we can analyze and manipulate using a computer? What information do we need to be able to describe the network? What are the advantages and disadvantages of the different solutions you can think of?"
   ]
  },
  {
   "cell_type": "markdown",
   "id": "f1c746e6",
   "metadata": {},
   "source": [
    "Nodes and edges for social relationships or directed graphs for interactions with other humans. But this can be limiting as it doesn't always give relevant or proper intuition towards issues as hand. "
   ]
  },
  {
   "cell_type": "markdown",
   "id": "ac982c9e",
   "metadata": {
    "deletable": false,
    "editable": false
   },
   "source": [
    "<!-- END QUESTION -->\n",
    "\n",
    "### Loading a complete network"
   ]
  },
  {
   "cell_type": "markdown",
   "id": "eb061e75",
   "metadata": {},
   "source": [
    "We will explore friendships from an American school; the data can be found at [http://moreno.ss.uci.edu/data.html#adhealth](http://moreno.ss.uci.edu/data.html#adhealth)."
   ]
  },
  {
   "cell_type": "markdown",
   "id": "2190b8f4",
   "metadata": {},
   "source": [
    "The data are in [UCI format](https://gephi.org/users/supported-graph-formats/ucinet-dl-format/). [UCI](https://sites.google.com/site/ucinetsoftware/home) is a tool that can be used to perform all sorts of network analysis. We won't be using UCI in this class, but you might come across it in future classes. For now, we're interested in some of the data that are included with UCI. These UCI datasets contain edge lists which the Python package `networkx` can read in."
   ]
  },
  {
   "cell_type": "markdown",
   "id": "a77934e7",
   "metadata": {},
   "source": [
    "The code below opens up the data file, but just reads it as lines of text (instead of interpreting the lines of text as a description of a network).<BR>\n",
    "\n",
    "Run the code chunk below, and take a look at its output."
   ]
  },
  {
   "cell_type": "code",
   "execution_count": 4,
   "id": "11f8ff6e",
   "metadata": {},
   "outputs": [
    {
     "data": {
      "text/plain": [
       "'/Users/curtisjhu/notebooks/networks'"
      ]
     },
     "execution_count": 4,
     "metadata": {},
     "output_type": "execute_result"
    }
   ],
   "source": [
    "os.getcwd()"
   ]
  },
  {
   "cell_type": "code",
   "execution_count": 5,
   "id": "539cbee4",
   "metadata": {},
   "outputs": [
    {
     "ename": "FileNotFoundError",
     "evalue": "[Errno 2] No such file or directory: 'data/comm1.dat'",
     "output_type": "error",
     "traceback": [
      "\u001b[0;31m---------------------------------------------------------------------------\u001b[0m",
      "\u001b[0;31mFileNotFoundError\u001b[0m                         Traceback (most recent call last)",
      "Cell \u001b[0;32mIn[5], line 5\u001b[0m\n\u001b[1;32m      1\u001b[0m \u001b[38;5;66;03m# this file was downloaded from\u001b[39;00m\n\u001b[1;32m      2\u001b[0m \u001b[38;5;66;03m# http://moreno.ss.uci.edu/data.html#adhealth\u001b[39;00m\n\u001b[1;32m      3\u001b[0m \u001b[38;5;66;03m# actually here: https://networkdata.ics.uci.edu/\u001b[39;00m\n\u001b[1;32m      4\u001b[0m edge_file \u001b[38;5;241m=\u001b[39m os\u001b[38;5;241m.\u001b[39mpath\u001b[38;5;241m.\u001b[39mjoin(\u001b[38;5;124m\"\u001b[39m\u001b[38;5;124mdata\u001b[39m\u001b[38;5;124m\"\u001b[39m, \u001b[38;5;124m\"\u001b[39m\u001b[38;5;124mcomm1.dat\u001b[39m\u001b[38;5;124m\"\u001b[39m)\n\u001b[0;32m----> 5\u001b[0m \u001b[38;5;28;01mwith\u001b[39;00m \u001b[38;5;28;43mopen\u001b[39;49m\u001b[43m(\u001b[49m\u001b[43medge_file\u001b[49m\u001b[43m,\u001b[49m\u001b[43m \u001b[49m\u001b[38;5;124;43m'\u001b[39;49m\u001b[38;5;124;43mr\u001b[39;49m\u001b[38;5;124;43m'\u001b[39;49m\u001b[43m)\u001b[49m \u001b[38;5;28;01mas\u001b[39;00m f:\n\u001b[1;32m      6\u001b[0m     edge_lines \u001b[38;5;241m=\u001b[39m f\u001b[38;5;241m.\u001b[39mreadlines()\n",
      "File \u001b[0;32m~/miniconda3/envs/networks/lib/python3.10/site-packages/IPython/core/interactiveshell.py:324\u001b[0m, in \u001b[0;36m_modified_open\u001b[0;34m(file, *args, **kwargs)\u001b[0m\n\u001b[1;32m    317\u001b[0m \u001b[38;5;28;01mif\u001b[39;00m file \u001b[38;5;129;01min\u001b[39;00m {\u001b[38;5;241m0\u001b[39m, \u001b[38;5;241m1\u001b[39m, \u001b[38;5;241m2\u001b[39m}:\n\u001b[1;32m    318\u001b[0m     \u001b[38;5;28;01mraise\u001b[39;00m \u001b[38;5;167;01mValueError\u001b[39;00m(\n\u001b[1;32m    319\u001b[0m         \u001b[38;5;124mf\u001b[39m\u001b[38;5;124m\"\u001b[39m\u001b[38;5;124mIPython won\u001b[39m\u001b[38;5;124m'\u001b[39m\u001b[38;5;124mt let you open fd=\u001b[39m\u001b[38;5;132;01m{\u001b[39;00mfile\u001b[38;5;132;01m}\u001b[39;00m\u001b[38;5;124m by default \u001b[39m\u001b[38;5;124m\"\u001b[39m\n\u001b[1;32m    320\u001b[0m         \u001b[38;5;124m\"\u001b[39m\u001b[38;5;124mas it is likely to crash IPython. If you know what you are doing, \u001b[39m\u001b[38;5;124m\"\u001b[39m\n\u001b[1;32m    321\u001b[0m         \u001b[38;5;124m\"\u001b[39m\u001b[38;5;124myou can use builtins\u001b[39m\u001b[38;5;124m'\u001b[39m\u001b[38;5;124m open.\u001b[39m\u001b[38;5;124m\"\u001b[39m\n\u001b[1;32m    322\u001b[0m     )\n\u001b[0;32m--> 324\u001b[0m \u001b[38;5;28;01mreturn\u001b[39;00m \u001b[43mio_open\u001b[49m\u001b[43m(\u001b[49m\u001b[43mfile\u001b[49m\u001b[43m,\u001b[49m\u001b[43m \u001b[49m\u001b[38;5;241;43m*\u001b[39;49m\u001b[43margs\u001b[49m\u001b[43m,\u001b[49m\u001b[43m \u001b[49m\u001b[38;5;241;43m*\u001b[39;49m\u001b[38;5;241;43m*\u001b[39;49m\u001b[43mkwargs\u001b[49m\u001b[43m)\u001b[49m\n",
      "\u001b[0;31mFileNotFoundError\u001b[0m: [Errno 2] No such file or directory: 'data/comm1.dat'"
     ]
    }
   ],
   "source": [
    "# this file was downloaded from\n",
    "# http://moreno.ss.uci.edu/data.html#adhealth\n",
    "# actually here: https://networkdata.ics.uci.edu/\n",
    "edge_file = os.path.join(\"data\", \"comm1.dat\")\n",
    "with open(edge_file, 'r') as f:\n",
    "    edge_lines = f.readlines()"
   ]
  },
  {
   "cell_type": "code",
   "execution_count": null,
   "id": "fdec4020",
   "metadata": {},
   "outputs": [],
   "source": [
    "edge_lines"
   ]
  },
  {
   "cell_type": "markdown",
   "id": "69a3eabc",
   "metadata": {},
   "source": [
    "Note that it looks like there are 4 extraneous lines at the top of the file before the edge list starts. Fortunately, the `networkx` package is smart enough to skip these four lines. "
   ]
  },
  {
   "cell_type": "markdown",
   "id": "8d2ee03e",
   "metadata": {},
   "source": [
    "Each line of the dataset has three numbers on it. The first two numbers are the nodes representing the end point of the respective edges, while the third number indicates the edge of each weight.\n",
    "*[Hint: In order to understand how the data are formatted, read the \"Description\" section of the [website](http://moreno.ss.uci.edu/data.html#adhealth) where the data can be downloaded.]*\n",
    "\n"
   ]
  },
  {
   "cell_type": "markdown",
   "id": "e509144f",
   "metadata": {},
   "source": [
    "In order to convert the edgelist contained in the datafile into a `networkx` object, we use the `nx.parse_edgelist` function:"
   ]
  },
  {
   "cell_type": "code",
   "execution_count": null,
   "id": "b8e99339",
   "metadata": {},
   "outputs": [],
   "source": [
    "g = nx.parse_edgelist(edge_lines, nodetype=int, data=[('activity_level', float)])"
   ]
  },
  {
   "cell_type": "markdown",
   "id": "916e62dc",
   "metadata": {},
   "source": [
    "`g` is now a network object. And we will be working with `g` from now on.\n",
    "\n",
    "You can see some more information about how this function works by looking at the help file:"
   ]
  },
  {
   "cell_type": "code",
   "execution_count": null,
   "id": "79678bbb",
   "metadata": {},
   "outputs": [],
   "source": [
    "nx.parse_edgelist?"
   ]
  },
  {
   "cell_type": "markdown",
   "id": "12f631a5",
   "metadata": {},
   "source": [
    "In addition to the lines from the datafile, we also passed a couple other arguments to the `parse_edgelist` function. They are:\n",
    "\n",
    "* `nodetype` - specifies the Python type used to represent each node. We have integer ids, so we use `int` here\n",
    "* `data` - describes any extra information about each edge that is contained in the edge list; in our case, there is a floating point value that describes the amount of interaction an edge represents. See the [data description](http://moreno.ss.uci.edu/data.html#adhealth) and the `parse_edgelist` help file for more information"
   ]
  },
  {
   "cell_type": "markdown",
   "id": "9265570b",
   "metadata": {},
   "source": [
    "Now that we have read our edgelist into a `networkx` object, we can start to investigate this network.\n",
    "\n",
    "For example, we can list the edges in the network:"
   ]
  },
  {
   "cell_type": "code",
   "execution_count": null,
   "id": "1cfeee74",
   "metadata": {
    "scrolled": true
   },
   "outputs": [],
   "source": [
    "g.edges()"
   ]
  },
  {
   "cell_type": "code",
   "execution_count": null,
   "id": "128a69fe",
   "metadata": {
    "scrolled": true
   },
   "outputs": [],
   "source": [
    "g.edges(data=True)"
   ]
  },
  {
   "cell_type": "markdown",
   "id": "257ac92b",
   "metadata": {
    "deletable": false,
    "editable": false
   },
   "source": [
    "## Question 2:\n",
    "How many edges are in the network? How many nodes are there?<BR>\n",
    "[*Hint: there are many ways to answer this question. For example, to count the number of nodes, you may find it helpful to look at nodes() method.*]"
   ]
  },
  {
   "cell_type": "code",
   "execution_count": null,
   "id": "142be8d6",
   "metadata": {
    "tags": []
   },
   "outputs": [],
   "source": [
    "q2_edges = ...\n",
    "\n",
    "print('num edges: ', q2_edges)"
   ]
  },
  {
   "cell_type": "code",
   "execution_count": null,
   "id": "af9b783e",
   "metadata": {
    "tags": []
   },
   "outputs": [],
   "source": [
    "q2_nodes = ...\n",
    "\n",
    "print('num nodes: ', q2_nodes)"
   ]
  },
  {
   "cell_type": "code",
   "execution_count": null,
   "id": "7f9eb75b",
   "metadata": {
    "deletable": false,
    "editable": false
   },
   "outputs": [],
   "source": [
    "grader.check(\"q2\")"
   ]
  },
  {
   "cell_type": "markdown",
   "id": "0abe030f",
   "metadata": {},
   "source": [
    "# Drawing the graph"
   ]
  },
  {
   "cell_type": "code",
   "execution_count": null,
   "id": "3f781b89",
   "metadata": {},
   "outputs": [],
   "source": [
    "nx.draw_networkx(g, with_labels=True)"
   ]
  },
  {
   "cell_type": "markdown",
   "id": "fd4da3e1",
   "metadata": {},
   "source": [
    "In order to illustrate a few important concepts, it will be helpful to first investigate a small subset of the network that we just read in.\n",
    "\n",
    "Remember that a network can be represented mathematically as a `graph`. (Note: this is different concept from a plot, or a graphical display of data, which can also be called a graph.) A subset of a graph is called a `subgraph`."
   ]
  },
  {
   "cell_type": "markdown",
   "id": "6ca76671",
   "metadata": {},
   "source": [
    "The `subgraph` function enables us to create a subgraph from a specific set of node ids:"
   ]
  },
  {
   "cell_type": "code",
   "execution_count": null,
   "id": "69bb1bb4",
   "metadata": {},
   "outputs": [],
   "source": [
    "g_subgraph = nx.subgraph(g, [3, 6, 29, 34, 40]) # pass in the network and a list of nodes"
   ]
  },
  {
   "cell_type": "markdown",
   "id": "a38952dd",
   "metadata": {},
   "source": [
    "We can get a drawing of this subgraph using the `draw` function:"
   ]
  },
  {
   "cell_type": "code",
   "execution_count": null,
   "id": "12481d91",
   "metadata": {},
   "outputs": [],
   "source": [
    "nx.draw_networkx(g_subgraph, with_labels=True)"
   ]
  },
  {
   "cell_type": "markdown",
   "id": "da557321",
   "metadata": {},
   "source": [
    "We will discuss drawing networks in more detail below."
   ]
  },
  {
   "cell_type": "markdown",
   "id": "460769ca",
   "metadata": {},
   "source": [
    "### Other representations of the network"
   ]
  },
  {
   "cell_type": "markdown",
   "id": "78f844d8",
   "metadata": {},
   "source": [
    "We discussed how there are different ways to represent a network in a computer. The edge list is very practical because many real networks are quite *sparse*, meaning that they have relatively few edges. The edge list is a particularly convenient way of storing a description of a network in a file (or in memory) when the network is large and sparse."
   ]
  },
  {
   "cell_type": "markdown",
   "id": "26138fa8",
   "metadata": {},
   "source": [
    "Another way to store a network is as an *adjacency matrix*. The *adjacency matrix* is not too practical for large networks because the amount of memory it requires increases quickly with the number of nodes in the network. However, the adjacency matrix turns out to be convenient to work with mathematically, so many formal results rely upon it.\n",
    "\n",
    "The adjacency matrix is a matrix -- i.e., it is an array of numbers, like a table. It is square, meaning that it has the same number of rows and columns. These rows and columns are ordered so that each id corresponds to one row and column.\n",
    "\n",
    "Each entry in an adjacency matrix can be located by its coordinates: (row number, column number).  If an entry is 0, it means that there is no edge between the vertices corresponding to the row and column. If an entry is 1, then there is an edge between the vertices corresponding to the row and column. (For those who are curious, [Wikipedia](https://en.wikipedia.org/wiki/Adjacency_matrix) has a discussion of adjacency matrices.)\n",
    "\n",
    "<BR>"
   ]
  },
  {
   "cell_type": "markdown",
   "id": "7f7476fc",
   "metadata": {},
   "source": [
    "Of course, `networkx` will display the edge list and the adjacency matrix representations of the network for you. Let's call the `edges` method and the `nx.adjacency_matrix` function for subgraph g_subgraph."
   ]
  },
  {
   "cell_type": "code",
   "execution_count": null,
   "id": "e9df31f5",
   "metadata": {},
   "outputs": [],
   "source": [
    "g_subgraph.edges()"
   ]
  },
  {
   "cell_type": "code",
   "execution_count": null,
   "id": "68444182",
   "metadata": {},
   "outputs": [],
   "source": [
    "nx.adjacency_matrix(g_subgraph)"
   ]
  },
  {
   "cell_type": "markdown",
   "id": "b9d1be9c",
   "metadata": {},
   "source": [
    "In order to actually show the contents of the adjacency matrix (since we know, in this case, that it's not too big), we can use the `todense` method:"
   ]
  },
  {
   "cell_type": "code",
   "execution_count": null,
   "id": "de3ee282",
   "metadata": {},
   "outputs": [],
   "source": [
    "nx.adjacency_matrix(g_subgraph).todense()"
   ]
  },
  {
   "cell_type": "markdown",
   "id": "ae78beb8",
   "metadata": {},
   "source": [
    "There's the matrix -- but, it's a bit hard to interpret it without knowing which node id corresponds to which row and column. If you look at the [help file](https://networkx.github.io/documentation/networkx-1.9/reference/generated/networkx.linalg.graphmatrix.adjacency_matrix.html) for `adjacency_matrix`, you will see that it says that, by default, it orders the rows/columns according to the results of `nodes()`. So we can interpret the matrix above by calling:"
   ]
  },
  {
   "cell_type": "code",
   "execution_count": null,
   "id": "5a1d148b",
   "metadata": {},
   "outputs": [],
   "source": [
    "g_subgraph.nodes()"
   ]
  },
  {
   "cell_type": "markdown",
   "id": "30b2b969",
   "metadata": {},
   "source": [
    "Check that the matrix you get makes sense by comparing it to the plot above."
   ]
  },
  {
   "cell_type": "markdown",
   "id": "84a31e54",
   "metadata": {},
   "source": [
    "### Plotting a network"
   ]
  },
  {
   "cell_type": "markdown",
   "id": "2e031e4f",
   "metadata": {},
   "source": [
    "As we saw above, `networkx` will help us draw a network using the `draw` function:"
   ]
  },
  {
   "cell_type": "code",
   "execution_count": null,
   "id": "b8f5051d",
   "metadata": {},
   "outputs": [],
   "source": [
    "nx.draw_networkx(g_subgraph)"
   ]
  },
  {
   "cell_type": "markdown",
   "id": "cfb9472c",
   "metadata": {},
   "source": [
    "Now look at the help files for the `networkx` package and try to find at least three other ways to draw the network.<BR> \n",
    "[*Hint: try typing `nx.draw` and then push Tab; you should see a list with possible completions pop up.*]\n",
    "\n",
    "Each time you make a new plot, read the help file and try to explain how this plot is made. (If you don't understand the help file, that is OK -- some if it goes beyond what we have discussed so far. Just do your best.)"
   ]
  },
  {
   "cell_type": "code",
   "execution_count": null,
   "id": "c6ee686e",
   "metadata": {},
   "outputs": [],
   "source": [
    "nx.draw_circular(g_subgraph)"
   ]
  },
  {
   "cell_type": "code",
   "execution_count": null,
   "id": "99b4074c",
   "metadata": {},
   "outputs": [],
   "source": [
    "nx.draw_spectral(g_subgraph)"
   ]
  },
  {
   "cell_type": "code",
   "execution_count": null,
   "id": "75c77a1f",
   "metadata": {},
   "outputs": [],
   "source": [
    "nx.draw_kamada_kawai(g_subgraph)"
   ]
  },
  {
   "cell_type": "markdown",
   "id": "9e7ae0f6",
   "metadata": {
    "deletable": false,
    "editable": false
   },
   "source": [
    "<!-- BEGIN QUESTION -->\n",
    "\n",
    "## Question 3:\n",
    "What do you learn from these graphs about plotting networks?"
   ]
  },
  {
   "cell_type": "markdown",
   "id": "49626c0f",
   "metadata": {},
   "source": [
    "_Type your answer here, replacing this text._"
   ]
  },
  {
   "cell_type": "markdown",
   "id": "dfadbb32",
   "metadata": {
    "deletable": false,
    "editable": false
   },
   "source": [
    "<!-- END QUESTION -->\n",
    "\n",
    "### The complete network"
   ]
  },
  {
   "cell_type": "markdown",
   "id": "343e0356",
   "metadata": {
    "collapsed": true
   },
   "source": [
    "Remember that, so far, we have mostly been looking at a subgraph of the complete school network. This was helpful because it is easier to illustrate some network concepts with smaller networks. Now we will turn to the entire network."
   ]
  },
  {
   "cell_type": "markdown",
   "id": "dc1f323e",
   "metadata": {},
   "source": [
    "Let's use the `draw` function to draw the complete school network again. "
   ]
  },
  {
   "cell_type": "code",
   "execution_count": null,
   "id": "7e592a85",
   "metadata": {},
   "outputs": [],
   "source": [
    "nx.draw_networkx(g)"
   ]
  },
  {
   "cell_type": "markdown",
   "id": "a01a6427",
   "metadata": {},
   "source": [
    "**Practice** Now use the three other drawing methods that you discovered above to produce different plots of this network."
   ]
  },
  {
   "cell_type": "code",
   "execution_count": null,
   "id": "c31b0df9",
   "metadata": {},
   "outputs": [],
   "source": [
    "nx.draw_random(g)"
   ]
  },
  {
   "cell_type": "code",
   "execution_count": null,
   "id": "3b07a480",
   "metadata": {},
   "outputs": [],
   "source": [
    "nx.draw_spring(g)"
   ]
  },
  {
   "cell_type": "code",
   "execution_count": null,
   "id": "bcf68117",
   "metadata": {},
   "outputs": [],
   "source": [
    "nx.draw_shell(g)"
   ]
  },
  {
   "cell_type": "markdown",
   "id": "d40d27c9",
   "metadata": {
    "deletable": false,
    "editable": false
   },
   "source": [
    "<!-- BEGIN QUESTION -->\n",
    "\n",
    "## Question 4:\n",
    "As its name suggests, `draw_random` draws the network with a random layout. You will get a different plot each time you call `draw_random`. Write a simple loop that will call `draw_random` 10 different times, producing 10 different random drawings of this network.<BR>\n",
    "*[HINT: after each plot you draw in your loop, tell matplotlib that you want to start a new plot (rather than adding to the existing one) by calling `plt.figure()`]*"
   ]
  },
  {
   "cell_type": "code",
   "execution_count": null,
   "id": "b48c20be",
   "metadata": {
    "scrolled": true,
    "tags": []
   },
   "outputs": [],
   "source": [
    "for i in range(10):\n",
    "    nx.draw_random(..., with_labels=True)\n",
    "    ..."
   ]
  },
  {
   "cell_type": "markdown",
   "id": "8a17b64c",
   "metadata": {
    "deletable": false,
    "editable": false
   },
   "source": [
    "<!-- END QUESTION -->\n",
    "\n",
    "### Degree plots"
   ]
  },
  {
   "cell_type": "markdown",
   "id": "ef3d3fd2",
   "metadata": {},
   "source": [
    "In lecture, we brainstormed a few of the quantitative ways that we could try to summarize the structure of a network. One of these ways was to look at the *degrees* in the network. The degree of a node in the network is the total number of other nodes that it is connected to."
   ]
  },
  {
   "cell_type": "markdown",
   "id": "4b1a6c2e",
   "metadata": {},
   "source": [
    "Now we will investigate the degrees in this school friendship network."
   ]
  },
  {
   "cell_type": "markdown",
   "id": "6bd9d3dd",
   "metadata": {},
   "source": [
    "Think for a second about what the collection of degrees in a network tells us: it tells us, for each node, how connected that node is.  Often, we are interested in understanding how much connectedness varies from node to node. For example, in some networks, it can be the case that every node has exactly the same degree; in other networks, there can be huge differences in the degrees of different nodes."
   ]
  },
  {
   "cell_type": "markdown",
   "id": "2867b451",
   "metadata": {},
   "source": [
    "## Question 5:\n",
    "Create a Table called `g_degrees` that has two columns:\n",
    "* `id` - has the id of each node in the network\n",
    "* `degree` - has the degree of each node in the network\n",
    "\n",
    "*[Hint: the `degree` method returns a dictionary, which is a type of data structure in Python. For our purposes, it is helpful to understand that you can get the entries in a dictionary using the `values` function. It will take a little exploring to figure out exactly how; feel free to work this out together with your neighbor.]*\n",
    "<BR>"
   ]
  },
  {
   "cell_type": "markdown",
   "id": "ffc01fd7",
   "metadata": {},
   "source": [
    "**Degree Table for g_subgraph**"
   ]
  },
  {
   "cell_type": "code",
   "execution_count": null,
   "id": "7e757484",
   "metadata": {},
   "outputs": [],
   "source": [
    "# the function .degree returns the degrees of each node in the network you are working with\n",
    "g_subgraph.degree(g_subgraph.nodes())"
   ]
  },
  {
   "cell_type": "code",
   "execution_count": null,
   "id": "d7afc1a8",
   "metadata": {},
   "outputs": [],
   "source": [
    "# you can use the list function to convert it into the list format that is easier to work with\n",
    "list(g_subgraph.degree(g_subgraph.nodes()))"
   ]
  },
  {
   "cell_type": "code",
   "execution_count": null,
   "id": "72c2f726",
   "metadata": {},
   "outputs": [],
   "source": [
    "# then we want to create a table listing all the nodes and their degree levels\n",
    "g_degrees = Table().with_columns([\n",
    "    'id', g_subgraph.nodes(),\n",
    "    'degree', [y for (x,y) in list(g_subgraph.degree(g_subgraph.nodes()))] # use all the y values in the pairs (x,y) in the list\n",
    "])\n",
    "\n",
    "    \n",
    "g_degrees"
   ]
  },
  {
   "cell_type": "markdown",
   "id": "d9568d80",
   "metadata": {
    "deletable": false,
    "editable": false
   },
   "source": [
    "**Now create degrees table for the complete graph (with network g) rather than the subgraph:**"
   ]
  },
  {
   "cell_type": "code",
   "execution_count": null,
   "id": "bdf017b1",
   "metadata": {
    "tags": []
   },
   "outputs": [],
   "source": [
    "g_degrees = Table().with_columns([\n",
    "    'id', ...,\n",
    "    'degree', [y for (x,y) in ...]\n",
    "])\n",
    "\n",
    "print(g_degrees)\n"
   ]
  },
  {
   "cell_type": "code",
   "execution_count": null,
   "id": "54e44925",
   "metadata": {
    "deletable": false,
    "editable": false
   },
   "outputs": [],
   "source": [
    "grader.check(\"q5\")"
   ]
  },
  {
   "cell_type": "markdown",
   "id": "63652365",
   "metadata": {},
   "source": [
    "Now you can make a histogram of the degrees of the nodes in the network"
   ]
  },
  {
   "cell_type": "code",
   "execution_count": null,
   "id": "5fde64b0",
   "metadata": {},
   "outputs": [],
   "source": [
    "g_degrees.hist('degree', bins=np.arange(0, 16, 1))"
   ]
  },
  {
   "cell_type": "markdown",
   "id": "5d513be7",
   "metadata": {},
   "source": [
    "## To recap our process so far..."
   ]
  },
  {
   "cell_type": "markdown",
   "id": "5dc3fd9e",
   "metadata": {},
   "source": [
    "To recap our process so far:\n",
    "\n",
    "* started using the `networkx` package;\n",
    "* learned how to read in a complete-network dataset;\n",
    "* learned how to take a subgraph from a complete network;\n",
    "* learned how to plot a network a few different ways;\n",
    "* ... but we also discovered that plotting networks is only moderately useful for understanding them.\n",
    "\n",
    "Let's continue using complete network data from the [Add Health project](http://www.cpc.unc.edu/projects/addhealth).\n",
    "\n",
    "First, we're going to cover a few different ways to quantitatively describe various aspects of network structure. Then we're going to actually compute those metrics for all of the Add Health friendship networks. This will give us a chance to practice writing functions and using iteration."
   ]
  },
  {
   "cell_type": "markdown",
   "id": "f7975e99",
   "metadata": {},
   "source": [
    "## Quantifying network structure"
   ]
  },
  {
   "cell_type": "markdown",
   "id": "018620f8",
   "metadata": {},
   "source": [
    "There are many different ways to quantify network structure. We're going to start by discussing different ways to measure *network connectivity*. \n",
    "\n",
    "Roughly speaking, a network has a high level of connectivity when any node can reach another node by following a small number of network edges. In the case of the Add Health student friendship networks, a highly connected network could arise when students are friends with many of their fellow students. A poorly connected network, on the other hand, could arise when students are segregated into distinct groups that don't interact much with one another."
   ]
  },
  {
   "cell_type": "markdown",
   "id": "966d20c9",
   "metadata": {},
   "source": [
    "<img src=\"example_network.png\" style=\"width: 60%;\">"
   ]
  },
  {
   "cell_type": "markdown",
   "id": "55dac023",
   "metadata": {},
   "source": [
    "Some of the **basic metrics** of this network are as follows"
   ]
  },
  {
   "cell_type": "markdown",
   "id": "85d7105f",
   "metadata": {},
   "source": [
    "\n",
    "\n",
    "* number of nodes: 8\n",
    "* number of edges: 5\n",
    "* average degree: (1 + 1 + 3 + 1 + 1 + 1 + 1 + 1) / 8 = 10 / 8\n",
    "* number of connected components: 3\n",
    "\n"
   ]
  },
  {
   "cell_type": "markdown",
   "id": "7bb4d217",
   "metadata": {},
   "source": [
    "And the **shortest distance** between each pair of nodes in the largest component of the graph is as follows"
   ]
  },
  {
   "cell_type": "markdown",
   "id": "e45b697b",
   "metadata": {},
   "source": [
    "\n",
    "\n",
    "|             |  node 1 | node 2 |  node 3 |  node 4 |\n",
    "|   :----:    |  :---:  |  :---: |  :---:  |  :---:  |\n",
    "|   node 1    |    -    |    2   |    1    |    2    |\n",
    "|   node 2    |    2    |    -   |    1    |    2    |\n",
    "|   node 3    |    1    |    1   |    -    |    1    |\n",
    "|   node 4    |    2    |    2   |    1    |    -    |"
   ]
  },
  {
   "cell_type": "markdown",
   "id": "daf4fee4",
   "metadata": {},
   "source": [
    "### Calculating network metrics with `networkx` (please do this with a partner)"
   ]
  },
  {
   "cell_type": "markdown",
   "id": "8f17eb58",
   "metadata": {},
   "source": [
    "Now we are going to use the `networkx` package to check the calculations we made by hand."
   ]
  },
  {
   "cell_type": "code",
   "execution_count": null,
   "id": "94ea1785",
   "metadata": {},
   "outputs": [],
   "source": [
    "ex_network = nx.Graph([(1,3), (2,3), (3,4), (5,6), (7,8)])"
   ]
  },
  {
   "cell_type": "markdown",
   "id": "68e7ba18",
   "metadata": {},
   "source": [
    "**Practice:** Check that your network is correct by drawing it and comparing it to the image above."
   ]
  },
  {
   "cell_type": "code",
   "execution_count": null,
   "id": "c5fc170e",
   "metadata": {},
   "outputs": [],
   "source": [
    "nx.draw_networkx(ex_network, with_labels=True)"
   ]
  },
  {
   "cell_type": "markdown",
   "id": "0d98ee40",
   "metadata": {},
   "source": [
    "The next few questions ask you to use the following functions to check your calculations:\n",
    "\n",
    "* `number_of_nodes()`\n",
    "* `number_of_edges()`\n",
    "* `number_connected_components()`"
   ]
  },
  {
   "cell_type": "markdown",
   "id": "0ff5f3d0",
   "metadata": {},
   "source": [
    "Check the number of nodes"
   ]
  },
  {
   "cell_type": "code",
   "execution_count": null,
   "id": "929d2346",
   "metadata": {},
   "outputs": [],
   "source": [
    "ex_network.number_of_nodes()"
   ]
  },
  {
   "cell_type": "markdown",
   "id": "6880ef26",
   "metadata": {},
   "source": [
    "Check the number of edges"
   ]
  },
  {
   "cell_type": "code",
   "execution_count": null,
   "id": "9fe4bcf3",
   "metadata": {},
   "outputs": [],
   "source": [
    "ex_network.number_of_edges()"
   ]
  },
  {
   "cell_type": "markdown",
   "id": "1e5ebce4",
   "metadata": {
    "deletable": false,
    "editable": false
   },
   "source": [
    "## Question 6: \n",
    "\n",
    "What is the average degree of this network?"
   ]
  },
  {
   "cell_type": "code",
   "execution_count": null,
   "id": "ccb0a541",
   "metadata": {
    "tags": []
   },
   "outputs": [],
   "source": [
    "q6 = ..."
   ]
  },
  {
   "cell_type": "code",
   "execution_count": null,
   "id": "05fc5c61",
   "metadata": {
    "deletable": false,
    "editable": false
   },
   "outputs": [],
   "source": [
    "grader.check(\"q6\")"
   ]
  },
  {
   "cell_type": "markdown",
   "id": "495d1db9",
   "metadata": {},
   "source": [
    "Check the number of connected components"
   ]
  },
  {
   "cell_type": "code",
   "execution_count": null,
   "id": "a1f69183",
   "metadata": {},
   "outputs": [],
   "source": [
    "nx.number_connected_components(ex_network)"
   ]
  },
  {
   "cell_type": "markdown",
   "id": "ffbb26c9",
   "metadata": {},
   "source": [
    "Several of the metrics we discussed only make sense when the entire network is one connected component. We will take the largest connected component of the example network (as we did when we made the calculations by hand above)."
   ]
  },
  {
   "cell_type": "markdown",
   "id": "36f07dea",
   "metadata": {},
   "source": [
    "Take the largest connected component of the example network. (To do this, look at the help file for the `connected_components` function; the example in the help file shows how to do this)"
   ]
  },
  {
   "cell_type": "code",
   "execution_count": null,
   "id": "facf230e",
   "metadata": {},
   "outputs": [],
   "source": [
    "ex_network_lc = max((ex_network.subgraph(c) for c in nx.connected_components(ex_network)), key=len)"
   ]
  },
  {
   "cell_type": "markdown",
   "id": "5b76310c",
   "metadata": {},
   "source": [
    "Check that this worked correctly by drawing `ex_network_lc`"
   ]
  },
  {
   "cell_type": "code",
   "execution_count": null,
   "id": "3031947b",
   "metadata": {},
   "outputs": [],
   "source": [
    "nx.draw_networkx(ex_network_lc, with_labels=True)"
   ]
  },
  {
   "cell_type": "markdown",
   "id": "6e428caf",
   "metadata": {},
   "source": [
    "### Opening up a school network"
   ]
  },
  {
   "cell_type": "markdown",
   "id": "0ada9746",
   "metadata": {},
   "source": [
    "Recall that the Add Health study sampled schools in many different communities. In part 1, we looked at the network from one of those communities. Now, we're going to look at *all* of the communities. By looking at many different friendship networks, we can hope to better understand the structure of student friendship networks, since we will be able to use evidence from many different networks, instead of from a single example. At the same time, we will try to better understand the different metrics of network structure and how they relate to each other."
   ]
  },
  {
   "cell_type": "markdown",
   "id": "6ffb7193",
   "metadata": {},
   "source": [
    "In part 1, we had to go through a couple of steps to read a file in and open up a single network. These steps would make a great function, since we will need to go through them each time we want to open 84 different files.\n",
    "\n",
    "Take a look at this function, which you will use in a moment:"
   ]
  },
  {
   "cell_type": "code",
   "execution_count": null,
   "id": "726b6875",
   "metadata": {},
   "outputs": [],
   "source": [
    "def read_add_health_network(network_id):\n",
    "    \"\"\"\n",
    "    network_id : integer from 1 to 84\n",
    "    \n",
    "    read in the Add Health network corresponding to the given id number and\n",
    "    return it as an undirected networkx object\n",
    "    \"\"\"\n",
    "\n",
    "    # this file was downloaded from\n",
    "    # http://moreno.ss.uci.edu/data.html#adhealth\n",
    "    edge_file = os.path.join(\"data\", \"comm\" + str(network_id) + \".dat\")\n",
    "    with open(edge_file, 'r') as f:\n",
    "        edge_lines = f.readlines()\n",
    "        \n",
    "    network = nx.parse_edgelist(edge_lines, nodetype=int, data=[('activity_level', float)])\n",
    "    \n",
    "    # note that we call the to_undirected method to ensure we get an undirected network\n",
    "    return(network.to_undirected())"
   ]
  },
  {
   "cell_type": "markdown",
   "id": "2081bd2c",
   "metadata": {},
   "source": [
    "Now let's use this function to actually read in all 84 of the Add Health school networks.\n",
    "\n",
    "*(This might take a couple of seconds)*"
   ]
  },
  {
   "cell_type": "code",
   "execution_count": null,
   "id": "0b07451e",
   "metadata": {},
   "outputs": [],
   "source": [
    "number_add_health_networks = 84\n",
    "add_health_networks = [read_add_health_network(x) for x in range(1,number_add_health_networks+1)]"
   ]
  },
  {
   "cell_type": "markdown",
   "id": "bd2a3a8f",
   "metadata": {},
   "source": [
    "Done! Look at the contents of `add_health_networks` to better understand what it is."
   ]
  },
  {
   "cell_type": "markdown",
   "id": "2b1fc51e",
   "metadata": {},
   "source": [
    "### Calculating network statistics for all of the Add Health communities"
   ]
  },
  {
   "cell_type": "markdown",
   "id": "a8660c10",
   "metadata": {},
   "source": [
    "Let's start by making a dataset that has the number of nodes in each of the 84 Add Health community networks."
   ]
  },
  {
   "cell_type": "code",
   "execution_count": null,
   "id": "1f74a187",
   "metadata": {},
   "outputs": [],
   "source": [
    "num_nodes = make_array()\n",
    "\n",
    "for g in add_health_networks:\n",
    "    num_nodes = np.append(num_nodes, g.number_of_nodes())\n",
    "\n",
    "add_health_firsttry = Table().with_columns([\n",
    "     'id', np.arange(1, number_add_health_networks+1),\n",
    "     'num_nodes', num_nodes,\n",
    "    ])\n",
    "\n",
    "add_health_firsttry"
   ]
  },
  {
   "cell_type": "markdown",
   "id": "ada4d70d",
   "metadata": {
    "deletable": false,
    "editable": false
   },
   "source": [
    "## Question 7:\n",
    "\n",
    "Now, following the pattern above, make a more complete dataset called `add_health` which has columns\n",
    "\n",
    "* `id`\n",
    "* `num_nodes`\n",
    "* `num_edges`\n",
    "* `avg_degree`\n",
    "* `num_components`"
   ]
  },
  {
   "cell_type": "code",
   "execution_count": null,
   "id": "2551bcea",
   "metadata": {
    "tags": []
   },
   "outputs": [],
   "source": [
    "num_nodes = ...\n",
    "num_edges = ...\n",
    "...\n",
    "\n",
    "\n",
    "for g in add_health_networks:\n",
    "    num_nodes = np.append(num_nodes, g.number_of_nodes())\n",
    "    num_edges = ...\n",
    "    avg_degree = np.append(avg_degree, ...)\n",
    "    num_components = np.append(num_components, nx.number_connected_components(g))\n",
    "\n",
    "add_health = Table().with_columns([\n",
    "     'id', np.arange(1, number_add_health_networks+1),\n",
    "     'num_nodes', num_nodes,\n",
    "     'num_edges', num_edges,\n",
    "     'avg_degree', avg_degree,\n",
    "     'num_components', num_components,\n",
    "    ])\n",
    "    \n",
    "q7 = add_health.num_rows"
   ]
  },
  {
   "cell_type": "code",
   "execution_count": null,
   "id": "1a9febf0",
   "metadata": {
    "deletable": false,
    "editable": false
   },
   "outputs": [],
   "source": [
    "grader.check(\"q7\")"
   ]
  },
  {
   "cell_type": "markdown",
   "id": "351d3c00",
   "metadata": {},
   "source": [
    "Let's take a look at the dataset that we just created:"
   ]
  },
  {
   "cell_type": "code",
   "execution_count": null,
   "id": "4fdd6a9c",
   "metadata": {},
   "outputs": [],
   "source": [
    "add_health"
   ]
  },
  {
   "cell_type": "markdown",
   "id": "fbc802f9",
   "metadata": {
    "deletable": false,
    "editable": false
   },
   "source": [
    "<!-- BEGIN QUESTION -->\n",
    "\n",
    "## Question 8: \n",
    "\n",
    "Make four histograms that show the distribution of each column (except for `id`)."
   ]
  },
  {
   "cell_type": "code",
   "execution_count": null,
   "id": "e4b93fcd",
   "metadata": {
    "tags": []
   },
   "outputs": [],
   "source": [
    "..."
   ]
  },
  {
   "cell_type": "code",
   "execution_count": null,
   "id": "19914d77",
   "metadata": {
    "tags": []
   },
   "outputs": [],
   "source": [
    "..."
   ]
  },
  {
   "cell_type": "code",
   "execution_count": null,
   "id": "c8d4efdd",
   "metadata": {
    "tags": []
   },
   "outputs": [],
   "source": [
    "..."
   ]
  },
  {
   "cell_type": "code",
   "execution_count": null,
   "id": "010b7d29",
   "metadata": {
    "tags": []
   },
   "outputs": [],
   "source": [
    "..."
   ]
  },
  {
   "cell_type": "markdown",
   "id": "ec0cb3ac",
   "metadata": {
    "deletable": false,
    "editable": false
   },
   "source": [
    "<!-- END QUESTION -->\n",
    "\n",
    "### Relationship between metrics of network structure"
   ]
  },
  {
   "cell_type": "markdown",
   "id": "4c83acc9",
   "metadata": {},
   "source": [
    "Remember that the goal of these different metrics is to try to find a way to summarize the structure of a network.  It turns out that this is too hard a task to have a single solution: the best way to summarize or describe a network can depend a lot on what you are interested in understanding about the network. For example, one type of summary might tell you about what networks are at high or low risk of quickly spreading an infectious disease and a different type of network metric might tell you about how hierarchical or egalitarian relationships between network members are.\n",
    "\n",
    "It would be very helpful to understand how these different metrics are related to each other. For example, if two metrics always increase or decrease together, that might tell us that they are capturing the same underlying aspect of network structure. On the other hand, if two metrics are totally unrelated to one another, then that might tell us that each one captures an independent aspect of network structure.\n",
    "\n",
    "One way to investigate this topic would be to use math to try to derive results that relate the different network metrics to each other. That's a great thing to do (and there has been a lot of work on this topic). But since we're learning how to analyze data, we're going to take a different approach: we're going to use our empirical dataset to see how these metrics behave in a set of real-world friendship networks."
   ]
  },
  {
   "cell_type": "markdown",
   "id": "439b7d5e",
   "metadata": {
    "deletable": false,
    "editable": false
   },
   "source": [
    "<!-- BEGIN QUESTION -->\n",
    "\n",
    "## Question 9:\n",
    "\n",
    "Make scatterplots that investigate the relationship between each of the four metrics in the previous question (for a total of six scatterplots). For each scatter plot, briefly comment on whether it suggests that your prediction is correct or not. (We're not doing any formal tests here, so this evidence will only be suggestive.)"
   ]
  },
  {
   "cell_type": "markdown",
   "id": "e5f3e30b",
   "metadata": {},
   "source": [
    "_Type your answer here, replacing this text._"
   ]
  },
  {
   "cell_type": "code",
   "execution_count": null,
   "id": "060526f9",
   "metadata": {
    "tags": []
   },
   "outputs": [],
   "source": [
    "..."
   ]
  },
  {
   "cell_type": "code",
   "execution_count": null,
   "id": "f2be8b9d",
   "metadata": {
    "tags": []
   },
   "outputs": [],
   "source": [
    "..."
   ]
  },
  {
   "cell_type": "code",
   "execution_count": null,
   "id": "589c020d",
   "metadata": {
    "tags": []
   },
   "outputs": [],
   "source": [
    "..."
   ]
  },
  {
   "cell_type": "code",
   "execution_count": null,
   "id": "7b5a8ad8",
   "metadata": {
    "tags": []
   },
   "outputs": [],
   "source": [
    "..."
   ]
  },
  {
   "cell_type": "code",
   "execution_count": null,
   "id": "18a82738",
   "metadata": {
    "tags": []
   },
   "outputs": [],
   "source": [
    "..."
   ]
  },
  {
   "cell_type": "code",
   "execution_count": null,
   "id": "02107d05",
   "metadata": {
    "tags": []
   },
   "outputs": [],
   "source": [
    "..."
   ]
  },
  {
   "cell_type": "markdown",
   "id": "a36a0b7c",
   "metadata": {
    "deletable": false,
    "editable": false
   },
   "source": [
    "<!-- END QUESTION -->\n",
    "\n",
    "# Submitting your work"
   ]
  },
  {
   "cell_type": "markdown",
   "id": "2d3dbd75",
   "metadata": {
    "deletable": false,
    "editable": false
   },
   "source": [
    "---\n",
    "\n",
    "To double-check your work, the cell below will rerun all of the autograder tests."
   ]
  },
  {
   "cell_type": "code",
   "execution_count": null,
   "id": "8998a260",
   "metadata": {
    "deletable": false,
    "editable": false
   },
   "outputs": [],
   "source": [
    "grader.check_all()"
   ]
  },
  {
   "cell_type": "markdown",
   "id": "a9e6a63c",
   "metadata": {
    "deletable": false,
    "editable": false
   },
   "source": [
    "## Submission\n",
    "\n",
    "Make sure you have run all cells in your notebook in order before running the cell below, so that all images/graphs appear in the output. The cell below will generate a zip file for you to submit. **Please save before exporting!**\n",
    "\n",
    "Please upload the .zip file to Gradescope by Tuesday at 2pm."
   ]
  },
  {
   "cell_type": "code",
   "execution_count": null,
   "id": "f51f52ee",
   "metadata": {
    "deletable": false,
    "editable": false
   },
   "outputs": [],
   "source": [
    "# Save your notebook first, then run this cell to export your submission.\n",
    "grader.export(run_tests=True)"
   ]
  },
  {
   "cell_type": "markdown",
   "id": "a4f3274b",
   "metadata": {},
   "source": [
    " "
   ]
  }
 ],
 "metadata": {
  "kernelspec": {
   "display_name": "Python 3 (ipykernel)",
   "language": "python",
   "name": "python3"
  },
  "language_info": {
   "codemirror_mode": {
    "name": "ipython",
    "version": 3
   },
   "file_extension": ".py",
   "mimetype": "text/x-python",
   "name": "python",
   "nbconvert_exporter": "python",
   "pygments_lexer": "ipython3",
   "version": "3.10.14"
  },
  "otter": {
   "OK_FORMAT": true,
   "tests": {
    "q2": {
     "name": "q2",
     "points": 1,
     "suites": [
      {
       "cases": [
        {
         "code": ">>> np.isclose(q2_edges, 220.0)\nTrue",
         "hidden": false,
         "locked": false
        },
        {
         "code": ">>> np.isclose(q2_nodes, 69.0)\nTrue",
         "hidden": false,
         "locked": false
        }
       ],
       "scored": true,
       "setup": "",
       "teardown": "",
       "type": "doctest"
      }
     ]
    },
    "q5": {
     "name": "q5",
     "points": 1,
     "suites": [
      {
       "cases": [
        {
         "code": ">>> round(g_degrees.num_rows,1) == 69.0\nTrue",
         "hidden": false,
         "locked": false
        },
        {
         "code": ">>> round(g_degrees.num_columns,1) == 2.0\nTrue",
         "hidden": false,
         "locked": false
        }
       ],
       "scored": true,
       "setup": "",
       "teardown": "",
       "type": "doctest"
      }
     ]
    },
    "q6": {
     "name": "q6",
     "points": 1,
     "suites": [
      {
       "cases": [
        {
         "code": ">>> np.isclose(q6, 1.25)\nTrue",
         "hidden": false,
         "locked": false
        }
       ],
       "scored": true,
       "setup": "",
       "teardown": "",
       "type": "doctest"
      }
     ]
    },
    "q7": {
     "name": "q7",
     "points": 1,
     "suites": [
      {
       "cases": [
        {
         "code": ">>> np.isclose(q7, 84.0)\nTrue",
         "hidden": false,
         "locked": false
        }
       ],
       "scored": true,
       "setup": "",
       "teardown": "",
       "type": "doctest"
      }
     ]
    }
   }
  }
 },
 "nbformat": 4,
 "nbformat_minor": 5
}
