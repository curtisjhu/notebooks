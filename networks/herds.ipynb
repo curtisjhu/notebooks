{
 "cells": [
  {
   "cell_type": "code",
   "execution_count": 1,
   "metadata": {},
   "outputs": [],
   "source": [
    "import numpy as np\n",
    "import matplotlib.pyplot as plt\n",
    "import networkx as nx"
   ]
  },
  {
   "cell_type": "markdown",
   "metadata": {},
   "source": [
    "# Recreating herding behavior\n",
    "\n",
    "Socially dominant goes to the center of herd\n",
    "\n",
    "(https://www.sciencedirect.com/book/9780323857529/genetics-and-the-behavior-of-domestic-animals)\n",
    "\n",
    "How do I recreate this?\n",
    "- Maybe the spring edge idea would work here?\n",
    "- Actually, I was thinking like a gravity well and have the nodes be \"balls\" \n",
    "\n",
    "\n"
   ]
  },
  {
   "cell_type": "markdown",
   "metadata": {},
   "source": [
    "#### Marbles in a gravity well\n",
    "\n",
    "Page from classical mechanics.\n",
    "\n",
    "$$ \\tan{\\phi} \\vert_x = \\frac{df}{dx} \\vert_x $$\n",
    "\n",
    "Force from gravity onto a curved function in polar coord.\n",
    "$$ F_r = m g \\sin(\\phi(r)) $$ \n",
    "\n",
    "where $f(r, \\theta) = r^2$\n",
    "\n",
    "Normal force of the curved function\n",
    "$$ F_N = m g \\cos(\\phi(r)) $$\n",
    "\n",
    "Force from other marbles. \n",
    "$$ F_i = k(r) \\frac{p_{curr} - p_{i}}{||p_{curr} - p_{i}||} $$\n",
    "where $k(r) = exp(-r+R) \\quad or \\quad 0$ is chosen s.t. it is at equilibrium (no net force).\n",
    "\n",
    "\n",
    "I believe this is correct? But probably will need to verify later.\n",
    "\n",
    "\n"
   ]
  },
  {
   "cell_type": "code",
   "execution_count": null,
   "metadata": {},
   "outputs": [],
   "source": []
  }
 ],
 "metadata": {
  "kernelspec": {
   "display_name": "networks",
   "language": "python",
   "name": "python3"
  },
  "language_info": {
   "codemirror_mode": {
    "name": "ipython",
    "version": 3
   },
   "file_extension": ".py",
   "mimetype": "text/x-python",
   "name": "python",
   "nbconvert_exporter": "python",
   "pygments_lexer": "ipython3",
   "version": "3.10.14"
  }
 },
 "nbformat": 4,
 "nbformat_minor": 2
}
