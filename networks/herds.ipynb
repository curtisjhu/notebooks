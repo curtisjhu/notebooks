{
 "cells": [
  {
   "cell_type": "markdown",
   "metadata": {},
   "source": [
    "# \n",
    "\n",
    "Socially dominant goes to the center of herd\n",
    "\n",
    "(https://www.sciencedirect.com/book/9780323857529/genetics-and-the-behavior-of-domestic-animals)\n",
    "\n",
    "How do I recreate this?"
   ]
  },
  {
   "cell_type": "code",
   "execution_count": null,
   "metadata": {},
   "outputs": [],
   "source": []
  }
 ],
 "metadata": {
  "language_info": {
   "name": "python"
  }
 },
 "nbformat": 4,
 "nbformat_minor": 2
}
