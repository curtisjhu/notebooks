{
 "cells": [
  {
   "cell_type": "markdown",
   "metadata": {},
   "source": [
    "# Splines"
   ]
  },
  {
   "cell_type": "code",
   "execution_count": 1,
   "metadata": {},
   "outputs": [
    {
     "name": "stdout",
     "output_type": "stream",
     "text": [
      "10.5656\n"
     ]
    }
   ],
   "source": [
    "import random\n",
    "from typing import Tuple\n",
    "from itertools import product\n",
    "\n",
    "suits = ['S', 'C', 'D', 'H']\n",
    "ranks = ['A', '2', '3', '4', '5', '6', '7', '8', '9', '10', 'J', 'Q', 'K']\n",
    "\n",
    "class Deck:\n",
    "    def __init__(self) -> None:\n",
    "        \"\"\"Initialize a deck of cards\"\"\"\n",
    "        self.cards = [(rank, suit) for rank, suit in product(ranks, suits)]\n",
    "\n",
    "    def shuffle(self) -> None:\n",
    "        \"\"\"Shuffle a deck of cards\"\"\"\n",
    "        self.cards = random.sample(self.cards, 52)\n",
    "\n",
    "    def draw(self) -> Tuple[str, str]:\n",
    "        \"\"\"Draw a card from the deck\"\"\"\n",
    "        return self.cards.pop()\n",
    "\n",
    "    def isEmpty(self) -> bool:\n",
    "        \"\"\"Check if the deck has cards\"\"\"\n",
    "        return self.cards == []\n",
    "\n",
    "def simulation() -> int:\n",
    "    deck = Deck()\n",
    "    deck.shuffle()\n",
    "\n",
    "    cards_drawn = 0\n",
    "\n",
    "    # Keep drawing until we find an ace\n",
    "    while not deck.isEmpty():\n",
    "        suit, rank = deck.draw()\n",
    "        cards_drawn += 1\n",
    "\n",
    "        if suit == \"A\":\n",
    "            return cards_drawn\n",
    "\n",
    "    return cards_drawn\n",
    "\n",
    "cards_needed = [simulation() for _ in range(10_000)]\n",
    "\n",
    "# Get the expected number of cards until we draw our first ace\n",
    "print(sum(cards_needed) / len(cards_needed))"
   ]
  }
 ],
 "metadata": {
  "kernelspec": {
   "display_name": "notebooks",
   "language": "python",
   "name": "python3"
  },
  "language_info": {
   "codemirror_mode": {
    "name": "ipython",
    "version": 3
   },
   "file_extension": ".py",
   "mimetype": "text/x-python",
   "name": "python",
   "nbconvert_exporter": "python",
   "pygments_lexer": "ipython3",
   "version": "3.12.4"
  }
 },
 "nbformat": 4,
 "nbformat_minor": 2
}
