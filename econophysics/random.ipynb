{
 "cells": [
  {
   "cell_type": "code",
   "execution_count": 2,
   "metadata": {},
   "outputs": [
    {
     "name": "stdout",
     "output_type": "stream",
     "text": [
      "0.0098\n"
     ]
    }
   ],
   "source": [
    "import math\n",
    "import scipy.stats as st\n",
    "\n",
    "mu = 49 * 205\n",
    "var = 49 * 15**2\n",
    "\n",
    "z_score = (9800 - mu)/math.sqrt(var)\n",
    "\n",
    "total_prob = st.norm.cdf(z_score)\n",
    "\n",
    "print(round(total_prob, 4))"
   ]
  },
  {
   "cell_type": "code",
   "execution_count": 3,
   "metadata": {},
   "outputs": [
    {
     "name": "stdout",
     "output_type": "stream",
     "text": [
      "0.6915\n"
     ]
    }
   ],
   "source": [
    "import math\n",
    "import scipy.stats as st\n",
    "\n",
    "mu = 100 * 2.4\n",
    "var = 100 * 2**2\n",
    "\n",
    "z_score = (250 - mu)/math.sqrt(var)\n",
    "\n",
    "total_prob = st.norm.cdf(z_score)\n",
    "\n",
    "print(round(total_prob, 4))"
   ]
  },
  {
   "cell_type": "code",
   "execution_count": 4,
   "metadata": {},
   "outputs": [
    {
     "name": "stdout",
     "output_type": "stream",
     "text": [
      "0.7887\n"
     ]
    }
   ],
   "source": [
    "import math\n",
    "import scipy.stats as st\n",
    "\n",
    "mu = 100 * 500\n",
    "var = 100 * 80**2\n",
    "\n",
    "z_score_2 = (100*510 - mu)/math.sqrt(var)\n",
    "z_score_1 = (100*490 - mu)/math.sqrt(var)\n",
    "\n",
    "total_prob = st.norm.cdf(z_score_2) - st.norm.cdf(z_score_1)\n",
    "\n",
    "print(round(total_prob, 4))"
   ]
  },
  {
   "cell_type": "code",
   "execution_count": 6,
   "metadata": {},
   "outputs": [
    {
     "name": "stdout",
     "output_type": "stream",
     "text": [
      "226.176\n",
      "286.1\n"
     ]
    }
   ],
   "source": [
    "import math\n",
    "import scipy.stats as st\n",
    "\n",
    "# E[X^2] - mu^2 = E[(X-mu)(X-mu)]\n",
    "print(160 + 40 * (0.88 + 0.88**2))\n",
    "print(128 + 40 * (1.55 + 1.55**2))"
   ]
  },
  {
   "cell_type": "markdown",
   "metadata": {},
   "source": []
  },
  {
   "cell_type": "code",
   "execution_count": 28,
   "metadata": {},
   "outputs": [
    {
     "name": "stdout",
     "output_type": "stream",
     "text": [
      "0.816\n",
      "\n",
      "2.9389999999999845\n",
      "2.9399999999999844\n",
      "2.9409999999999843\n",
      "2.941999999999984\n"
     ]
    }
   ],
   "source": [
    "# sqrt(2/3)\n",
    "import numpy as np\n",
    "sd = round(np.sqrt(2/3), 3)\n",
    "print(sd)\n",
    "print()\n",
    "\n",
    "for N in np.arange(2.8, 3, 0.001):\n",
    "\tvals = np.array([1, 2, 3,N])\n",
    "\tmu = sum(vals)/4\n",
    "\tvar = np.sqrt(sum((vals-mu)**2)/4)\n",
    "\tvar = round(var, 3)\n",
    "\tif var == sd:\n",
    "\t\tprint(N)\n"
   ]
  },
  {
   "cell_type": "code",
   "execution_count": 29,
   "metadata": {},
   "outputs": [
    {
     "data": {
      "text/plain": [
       "2.6457513110645907"
      ]
     },
     "execution_count": 29,
     "metadata": {},
     "output_type": "execute_result"
    }
   ],
   "source": [
    "# adding/subtracting normal distributions\n",
    "\n",
    "# Y = X_1 + X_2 + ...\n",
    "# Y ~ N(n * mu, n *sigma^2)\n",
    "\n",
    "# to generalize add/subtract\n",
    "\n",
    "# Y = k_1*X_1 + k_2*X_2 + ...\n",
    "# Y ~ N(sum(k * mu), sum(k *sigma^2))\n",
    "\n"
   ]
  },
  {
   "cell_type": "code",
   "execution_count": 30,
   "metadata": {},
   "outputs": [
    {
     "data": {
      "text/plain": [
       "14.142135623730951"
      ]
     },
     "execution_count": 30,
     "metadata": {},
     "output_type": "execute_result"
    }
   ],
   "source": [
    "math.sqrt(2)*10"
   ]
  },
  {
   "cell_type": "code",
   "execution_count": 31,
   "metadata": {},
   "outputs": [
    {
     "data": {
      "text/plain": [
       "3.4999999999999987"
      ]
     },
     "execution_count": 31,
     "metadata": {},
     "output_type": "execute_result"
    }
   ],
   "source": [
    "(0.9025-0.675)/0.065"
   ]
  },
  {
   "cell_type": "code",
   "execution_count": 32,
   "metadata": {},
   "outputs": [
    {
     "data": {
      "text/plain": [
       "0.049787068367863944"
      ]
     },
     "execution_count": 32,
     "metadata": {},
     "output_type": "execute_result"
    }
   ],
   "source": [
    "np.exp(-3)"
   ]
  },
  {
   "cell_type": "markdown",
   "metadata": {},
   "source": [
    "1 - 6/np.exp(6) - 1/np.exp(6)"
   ]
  },
  {
   "cell_type": "code",
   "execution_count": 33,
   "metadata": {},
   "outputs": [
    {
     "data": {
      "text/plain": [
       "0.9826487347633355"
      ]
     },
     "execution_count": 33,
     "metadata": {},
     "output_type": "execute_result"
    }
   ],
   "source": [
    "1 - 6/np.exp(6) - 1/np.exp(6)"
   ]
  },
  {
   "cell_type": "markdown",
   "metadata": {},
   "source": [
    "np.exp(-1.2) * 1.2**2 / 2"
   ]
  },
  {
   "cell_type": "code",
   "execution_count": 34,
   "metadata": {},
   "outputs": [
    {
     "data": {
      "text/plain": [
       "0.21685983257678554"
      ]
     },
     "execution_count": 34,
     "metadata": {},
     "output_type": "execute_result"
    }
   ],
   "source": [
    "np.exp(-1.2) * 1.2**2 / 2"
   ]
  },
  {
   "cell_type": "code",
   "execution_count": 35,
   "metadata": {},
   "outputs": [
    {
     "data": {
      "text/plain": [
       "0.8794870987836303"
      ]
     },
     "execution_count": 35,
     "metadata": {},
     "output_type": "execute_result"
    }
   ],
   "source": [
    "np.exp(-1.2) * 1.2**2 / 2 + np.exp(-1.2) * 1.2**1 + np.exp(-1.2)"
   ]
  },
  {
   "cell_type": "code",
   "execution_count": 36,
   "metadata": {},
   "outputs": [
    {
     "data": {
      "text/plain": [
       "0.012740638735861376"
      ]
     },
     "execution_count": 36,
     "metadata": {},
     "output_type": "execute_result"
    }
   ],
   "source": [
    "np.exp(-12) * 12**5 / (120)"
   ]
  },
  {
   "cell_type": "code",
   "execution_count": 38,
   "metadata": {},
   "outputs": [
    {
     "name": "stderr",
     "output_type": "stream",
     "text": [
      "/var/folders/vg/5vdppb7s63x_nslhxytqlt7r0000gn/T/ipykernel_17221/2761617067.py:2: DeprecationWarning: `np.math` is a deprecated alias for the standard library `math` module (Deprecated Numpy 1.25). Replace usages of `np.math` with `math`\n",
      "  return np.exp(-48) * 48**k/np.math.factorial(k)\n"
     ]
    },
    {
     "data": {
      "text/plain": [
       "1.0"
      ]
     },
     "execution_count": 38,
     "metadata": {},
     "output_type": "execute_result"
    }
   ],
   "source": [
    "def pois(k):\n",
    "\treturn np.exp(-48) * 48**k/np.math.factorial(k) \n",
    "\n",
    "1 - pois(0) - pois(1) - pois(2)"
   ]
  },
  {
   "cell_type": "code",
   "execution_count": 42,
   "metadata": {},
   "outputs": [
    {
     "name": "stdout",
     "output_type": "stream",
     "text": [
      "0.26331006880493435\n"
     ]
    }
   ],
   "source": [
    "\n",
    "import scipy.stats as st\n",
    "import math\n",
    "\n",
    "total = 74000 + 11*47000\n",
    "\n",
    "mu = total - 11 * 50000\n",
    "sd = math.sqrt(11 * 10000**2)\n",
    "\n",
    "z = (20000 - mu)/sd\n",
    "p = st.norm.cdf(z)\n",
    "print(p)"
   ]
  },
  {
   "cell_type": "code",
   "execution_count": 85,
   "metadata": {},
   "outputs": [
    {
     "name": "stdout",
     "output_type": "stream",
     "text": [
      "52857.84132723229\n"
     ]
    }
   ],
   "source": [
    "import scipy.stats as st\n",
    "import math\n",
    "\n",
    "\n",
    "z = -2.576\n",
    "sd = math.sqrt(11 * 10000**2)\n",
    "total = 20000 - z*sd + 11*50000\n",
    "total = (total - 74000)/11\n",
    "\n",
    "print(total)"
   ]
  },
  {
   "cell_type": "code",
   "execution_count": 70,
   "metadata": {},
   "outputs": [
    {
     "data": {
      "text/plain": [
       "0.004997532315735014"
      ]
     },
     "execution_count": 70,
     "metadata": {},
     "output_type": "execute_result"
    }
   ],
   "source": [
    "st.norm.cdf(-2.576)"
   ]
  },
  {
   "cell_type": "markdown",
   "metadata": {},
   "source": []
  },
  {
   "cell_type": "code",
   "execution_count": 81,
   "metadata": {},
   "outputs": [
    {
     "name": "stdout",
     "output_type": "stream",
     "text": [
      "0.950004209703559\n",
      "515.68\n",
      "484.32\n"
     ]
    }
   ],
   "source": [
    "import scipy.stats as st\n",
    "import math\n",
    "\n",
    "mu = 500\n",
    "sd = math.sqrt(80**2/100)\n",
    "\n",
    "\n",
    "z = 1.96\n",
    "# while abs(p - 0.475) > 1e-6:\n",
    "# \tp = st.norm.cdf(z) - 0.5\n",
    "# \tz += 1e-6\n",
    "print(st.norm.cdf(1.96) - st.norm.cdf(-1.96))\n",
    "\n",
    "print(z*sd + mu)\n",
    "print(-z*sd + mu)"
   ]
  },
  {
   "cell_type": "code",
   "execution_count": 64,
   "metadata": {},
   "outputs": [
    {
     "name": "stdout",
     "output_type": "stream",
     "text": [
      "51568.0\n",
      "48432.0\n"
     ]
    }
   ],
   "source": [
    "print(2.5*sd + mu)\n",
    "print(-2.5*sd + mu)"
   ]
  },
  {
   "cell_type": "code",
   "execution_count": null,
   "metadata": {},
   "outputs": [],
   "source": [
    "total = 74000 + 11 * 47000\n"
   ]
  }
 ],
 "metadata": {
  "kernelspec": {
   "display_name": "notebooks",
   "language": "python",
   "name": "python3"
  },
  "language_info": {
   "codemirror_mode": {
    "name": "ipython",
    "version": 3
   },
   "file_extension": ".py",
   "mimetype": "text/x-python",
   "name": "python",
   "nbconvert_exporter": "python",
   "pygments_lexer": "ipython3",
   "version": "3.12.4"
  }
 },
 "nbformat": 4,
 "nbformat_minor": 2
}
